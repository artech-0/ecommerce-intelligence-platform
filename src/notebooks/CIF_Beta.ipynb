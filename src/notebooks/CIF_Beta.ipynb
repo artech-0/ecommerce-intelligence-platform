{
  "nbformat": 4,
  "nbformat_minor": 0,
  "metadata": {
    "colab": {
      "provenance": [],
      "collapsed_sections": [
        "hCtp5Kt-c91Z"
      ],
      "toc_visible": true
    },
    "kernelspec": {
      "name": "python3",
      "display_name": "Python 3"
    },
    "language_info": {
      "name": "python"
    }
  },
  "cells": [
    {
      "cell_type": "markdown",
      "source": [],
      "metadata": {
        "id": "auzDGmymc5_m"
      }
    },
    {
      "cell_type": "markdown",
      "source": [
        "# Data Analysis and cleaning if required, rfm dataframe isolation"
      ],
      "metadata": {
        "id": "-t39vMA85ey3"
      }
    },
    {
      "cell_type": "code",
      "execution_count": null,
      "metadata": {
        "id": "S2EsS0-lqDtC"
      },
      "outputs": [],
      "source": [
        "import warnings\n",
        "import joblib\n",
        "import pandas as pd\n",
        "import numpy as np\n",
        "import matplotlib.pyplot as plt\n",
        "import seaborn as sns\n",
        "\n",
        "from sklearn.cluster import KMeans\n",
        "from sklearn.compose import ColumnTransformer\n",
        "from sklearn.model_selection import train_test_split\n",
        "from sklearn.pipeline import make_pipeline\n",
        "from sklearn.preprocessing import StandardScaler, OneHotEncoder\n",
        "\n",
        "# Metrics\n",
        "from sklearn.metrics import silhouette_score, classification_report, r2_score, mean_absolute_error, mean_squared_error\n",
        "\n",
        "# Models (Classification)\n",
        "from sklearn.linear_model import LogisticRegression\n",
        "from sklearn.ensemble import RandomForestClassifier\n",
        "from xgboost import XGBClassifier\n",
        "\n",
        "# Models (Regression)\n",
        "from sklearn.linear_model import LinearRegression, Lasso\n",
        "from xgboost import XGBRegressor"
      ]
    },
    {
      "cell_type": "code",
      "source": [
        "plt.style.use('seaborn-v0_8-whitegrid')\n",
        "warnings.filterwarnings('ignore')\n"
      ],
      "metadata": {
        "id": "f0y7Sc8aq9F1"
      },
      "execution_count": null,
      "outputs": []
    },
    {
      "cell_type": "code",
      "source": [
        "cleaned_data = pd.read_csv(\"/content/drive/MyDrive/datasets/cleaned_superstore_data.csv\")\n",
        "print(f\"\\nSuccessfully loaded. Shape: {cleaned_data.shape}\")"
      ],
      "metadata": {
        "colab": {
          "base_uri": "https://localhost:8080/"
        },
        "id": "oUkVTPERrCZW",
        "outputId": "1115af91-24b3-4b11-cae0-2006a7db0106"
      },
      "execution_count": null,
      "outputs": [
        {
          "output_type": "stream",
          "name": "stdout",
          "text": [
            "\n",
            "Successfully loaded. Shape: (8447, 35)\n"
          ]
        }
      ]
    },
    {
      "cell_type": "code",
      "source": [
        "\n",
        "print(\"--- DataFrame Info ---\")\n",
        "cleaned_data.info()\n",
        "\n",
        "\n",
        "print(\"\\n--- DataFrame Shape ---\")\n",
        "print(cleaned_data.shape)\n",
        "\n",
        "print(\"\\n--- DataFrame Head (Key Columns) ---\")\n",
        "print(cleaned_data[['Customer ID', 'Order Date', 'Order ID', 'Total Sales']].head())"
      ],
      "metadata": {
        "colab": {
          "base_uri": "https://localhost:8080/"
        },
        "id": "mGEF5iC2rd7k",
        "outputId": "019fd914-8a97-402d-f45c-c397970784e8"
      },
      "execution_count": null,
      "outputs": [
        {
          "output_type": "stream",
          "name": "stdout",
          "text": [
            "--- DataFrame Info ---\n",
            "<class 'pandas.core.frame.DataFrame'>\n",
            "RangeIndex: 8447 entries, 0 to 8446\n",
            "Data columns (total 35 columns):\n",
            " #   Column                    Non-Null Count  Dtype  \n",
            "---  ------                    --------------  -----  \n",
            " 0   Row ID                    8447 non-null   int64  \n",
            " 1   Order ID                  8447 non-null   object \n",
            " 2   Order Date                8447 non-null   object \n",
            " 3   Ship Date                 6348 non-null   object \n",
            " 4   Ship Mode                 8429 non-null   object \n",
            " 5   Customer ID               8447 non-null   object \n",
            " 6   Segment                   8447 non-null   object \n",
            " 7   Country                   8447 non-null   object \n",
            " 8   City                      8447 non-null   object \n",
            " 9   State                     8447 non-null   object \n",
            " 10  Postal Code               8447 non-null   int64  \n",
            " 11  Region                    8447 non-null   object \n",
            " 12  Product ID                8447 non-null   object \n",
            " 13  Category                  8447 non-null   object \n",
            " 14  Sub-Category              8447 non-null   object \n",
            " 15  Product Name              8447 non-null   object \n",
            " 16  Sales Price               8447 non-null   float64\n",
            " 17  Quantity                  8447 non-null   int64  \n",
            " 18  Discount                  8447 non-null   float64\n",
            " 19  Profit                    8447 non-null   float64\n",
            " 20  Days to Ship              6348 non-null   float64\n",
            " 21  Customer Name Masked      8447 non-null   object \n",
            " 22  Original Price            8447 non-null   float64\n",
            " 23  Total Sales               8447 non-null   float64\n",
            " 24  Total Profit              8447 non-null   float64\n",
            " 25  Discount Price            8447 non-null   float64\n",
            " 26  Total Discount            8447 non-null   float64\n",
            " 27  Shipping Urgency          8447 non-null   object \n",
            " 28  Days Since Last Order     7780 non-null   float64\n",
            " 29  Customer_Total_Sales      8447 non-null   float64\n",
            " 30  Customer_Total_Quantity   8447 non-null   int64  \n",
            " 31  Customer_Total_Profit     8447 non-null   float64\n",
            " 32  Customer_Avg_Discount     8447 non-null   float64\n",
            " 33  Customer Sales Quintile   8447 non-null   int64  \n",
            " 34  Customer Profit Quintile  8447 non-null   int64  \n",
            "dtypes: float64(13), int64(6), object(16)\n",
            "memory usage: 2.3+ MB\n",
            "\n",
            "--- DataFrame Shape ---\n",
            "(8447, 35)\n",
            "\n",
            "--- DataFrame Head (Key Columns) ---\n",
            "  Customer ID  Order Date        Order ID  Total Sales\n",
            "0    CG-12520  2016-11-08  CA-2016-152156      523.920\n",
            "1    DV-13045  2016-06-12  CA-2016-138688       29.240\n",
            "2    SO-20335  2015-10-11  US-2015-108966       44.736\n",
            "3    BH-11710  2014-06-09  CA-2014-115812      342.020\n",
            "4    BH-11710  2014-06-09  CA-2014-115812       29.120\n"
          ]
        }
      ]
    },
    {
      "cell_type": "code",
      "source": [
        "cleaned_data.head()"
      ],
      "metadata": {
        "colab": {
          "base_uri": "https://localhost:8080/",
          "height": 481
        },
        "id": "GIJjqVUA16D2",
        "outputId": "963dff61-c3f1-4fb2-e6fb-28a3b91cb2d6"
      },
      "execution_count": null,
      "outputs": [
        {
          "output_type": "execute_result",
          "data": {
            "text/plain": [
              "   Row ID        Order ID  Order Date   Ship Date       Ship Mode Customer ID  \\\n",
              "0       1  CA-2016-152156  2016-11-08  2016-11-11    Second Class    CG-12520   \n",
              "1       3  CA-2016-138688  2016-06-12  2016-06-16    Second Class    DV-13045   \n",
              "2       5  US-2015-108966  2015-10-11  2015-10-18  Standard Class    SO-20335   \n",
              "3       6  CA-2014-115812  2014-06-09  2014-06-14  Standard Class    BH-11710   \n",
              "4       7  CA-2014-115812  2014-06-09  2014-06-14  Standard Class    BH-11710   \n",
              "\n",
              "     Segment        Country             City       State  ...  Discount Price  \\\n",
              "0   Consumer  United States        Henderson    Kentucky  ...           0.000   \n",
              "1  Corporate  United States      Los Angeles  California  ...           0.000   \n",
              "2   Consumer  United States  Fort Lauderdale     Florida  ...           5.592   \n",
              "3   Consumer  United States      Los Angeles  California  ...           0.000   \n",
              "4   Consumer  United States      Los Angeles  California  ...           0.000   \n",
              "\n",
              "  Total Discount Shipping Urgency Days Since Last Order Customer_Total_Sales  \\\n",
              "0          0.000           Urgent                 390.0            3549.6600   \n",
              "1          0.000         Standard                   NaN            6156.8940   \n",
              "2         11.184         Standard                   0.0           10343.1775   \n",
              "3          0.000         Standard                   NaN           36995.1770   \n",
              "4          0.000         Standard                   0.0           36995.1770   \n",
              "\n",
              "  Customer_Total_Quantity  Customer_Total_Profit  Customer_Avg_Discount  \\\n",
              "0                      14               176.5900               0.200000   \n",
              "1                      28             -2561.4590               0.172222   \n",
              "2                      52              -821.6332               0.136667   \n",
              "3                      97              4616.3016               0.183333   \n",
              "4                      97              4616.3016               0.183333   \n",
              "\n",
              "   Customer Sales Quintile  Customer Profit Quintile  \n",
              "0                        1                         2  \n",
              "1                        2                         1  \n",
              "2                        3                         1  \n",
              "3                        5                         5  \n",
              "4                        5                         5  \n",
              "\n",
              "[5 rows x 35 columns]"
            ],
            "text/html": [
              "\n",
              "  <div id=\"df-d184bce2-3118-475d-bf3a-ff64d1e5b4fe\" class=\"colab-df-container\">\n",
              "    <div>\n",
              "<style scoped>\n",
              "    .dataframe tbody tr th:only-of-type {\n",
              "        vertical-align: middle;\n",
              "    }\n",
              "\n",
              "    .dataframe tbody tr th {\n",
              "        vertical-align: top;\n",
              "    }\n",
              "\n",
              "    .dataframe thead th {\n",
              "        text-align: right;\n",
              "    }\n",
              "</style>\n",
              "<table border=\"1\" class=\"dataframe\">\n",
              "  <thead>\n",
              "    <tr style=\"text-align: right;\">\n",
              "      <th></th>\n",
              "      <th>Row ID</th>\n",
              "      <th>Order ID</th>\n",
              "      <th>Order Date</th>\n",
              "      <th>Ship Date</th>\n",
              "      <th>Ship Mode</th>\n",
              "      <th>Customer ID</th>\n",
              "      <th>Segment</th>\n",
              "      <th>Country</th>\n",
              "      <th>City</th>\n",
              "      <th>State</th>\n",
              "      <th>...</th>\n",
              "      <th>Discount Price</th>\n",
              "      <th>Total Discount</th>\n",
              "      <th>Shipping Urgency</th>\n",
              "      <th>Days Since Last Order</th>\n",
              "      <th>Customer_Total_Sales</th>\n",
              "      <th>Customer_Total_Quantity</th>\n",
              "      <th>Customer_Total_Profit</th>\n",
              "      <th>Customer_Avg_Discount</th>\n",
              "      <th>Customer Sales Quintile</th>\n",
              "      <th>Customer Profit Quintile</th>\n",
              "    </tr>\n",
              "  </thead>\n",
              "  <tbody>\n",
              "    <tr>\n",
              "      <th>0</th>\n",
              "      <td>1</td>\n",
              "      <td>CA-2016-152156</td>\n",
              "      <td>2016-11-08</td>\n",
              "      <td>2016-11-11</td>\n",
              "      <td>Second Class</td>\n",
              "      <td>CG-12520</td>\n",
              "      <td>Consumer</td>\n",
              "      <td>United States</td>\n",
              "      <td>Henderson</td>\n",
              "      <td>Kentucky</td>\n",
              "      <td>...</td>\n",
              "      <td>0.000</td>\n",
              "      <td>0.000</td>\n",
              "      <td>Urgent</td>\n",
              "      <td>390.0</td>\n",
              "      <td>3549.6600</td>\n",
              "      <td>14</td>\n",
              "      <td>176.5900</td>\n",
              "      <td>0.200000</td>\n",
              "      <td>1</td>\n",
              "      <td>2</td>\n",
              "    </tr>\n",
              "    <tr>\n",
              "      <th>1</th>\n",
              "      <td>3</td>\n",
              "      <td>CA-2016-138688</td>\n",
              "      <td>2016-06-12</td>\n",
              "      <td>2016-06-16</td>\n",
              "      <td>Second Class</td>\n",
              "      <td>DV-13045</td>\n",
              "      <td>Corporate</td>\n",
              "      <td>United States</td>\n",
              "      <td>Los Angeles</td>\n",
              "      <td>California</td>\n",
              "      <td>...</td>\n",
              "      <td>0.000</td>\n",
              "      <td>0.000</td>\n",
              "      <td>Standard</td>\n",
              "      <td>NaN</td>\n",
              "      <td>6156.8940</td>\n",
              "      <td>28</td>\n",
              "      <td>-2561.4590</td>\n",
              "      <td>0.172222</td>\n",
              "      <td>2</td>\n",
              "      <td>1</td>\n",
              "    </tr>\n",
              "    <tr>\n",
              "      <th>2</th>\n",
              "      <td>5</td>\n",
              "      <td>US-2015-108966</td>\n",
              "      <td>2015-10-11</td>\n",
              "      <td>2015-10-18</td>\n",
              "      <td>Standard Class</td>\n",
              "      <td>SO-20335</td>\n",
              "      <td>Consumer</td>\n",
              "      <td>United States</td>\n",
              "      <td>Fort Lauderdale</td>\n",
              "      <td>Florida</td>\n",
              "      <td>...</td>\n",
              "      <td>5.592</td>\n",
              "      <td>11.184</td>\n",
              "      <td>Standard</td>\n",
              "      <td>0.0</td>\n",
              "      <td>10343.1775</td>\n",
              "      <td>52</td>\n",
              "      <td>-821.6332</td>\n",
              "      <td>0.136667</td>\n",
              "      <td>3</td>\n",
              "      <td>1</td>\n",
              "    </tr>\n",
              "    <tr>\n",
              "      <th>3</th>\n",
              "      <td>6</td>\n",
              "      <td>CA-2014-115812</td>\n",
              "      <td>2014-06-09</td>\n",
              "      <td>2014-06-14</td>\n",
              "      <td>Standard Class</td>\n",
              "      <td>BH-11710</td>\n",
              "      <td>Consumer</td>\n",
              "      <td>United States</td>\n",
              "      <td>Los Angeles</td>\n",
              "      <td>California</td>\n",
              "      <td>...</td>\n",
              "      <td>0.000</td>\n",
              "      <td>0.000</td>\n",
              "      <td>Standard</td>\n",
              "      <td>NaN</td>\n",
              "      <td>36995.1770</td>\n",
              "      <td>97</td>\n",
              "      <td>4616.3016</td>\n",
              "      <td>0.183333</td>\n",
              "      <td>5</td>\n",
              "      <td>5</td>\n",
              "    </tr>\n",
              "    <tr>\n",
              "      <th>4</th>\n",
              "      <td>7</td>\n",
              "      <td>CA-2014-115812</td>\n",
              "      <td>2014-06-09</td>\n",
              "      <td>2014-06-14</td>\n",
              "      <td>Standard Class</td>\n",
              "      <td>BH-11710</td>\n",
              "      <td>Consumer</td>\n",
              "      <td>United States</td>\n",
              "      <td>Los Angeles</td>\n",
              "      <td>California</td>\n",
              "      <td>...</td>\n",
              "      <td>0.000</td>\n",
              "      <td>0.000</td>\n",
              "      <td>Standard</td>\n",
              "      <td>0.0</td>\n",
              "      <td>36995.1770</td>\n",
              "      <td>97</td>\n",
              "      <td>4616.3016</td>\n",
              "      <td>0.183333</td>\n",
              "      <td>5</td>\n",
              "      <td>5</td>\n",
              "    </tr>\n",
              "  </tbody>\n",
              "</table>\n",
              "<p>5 rows × 35 columns</p>\n",
              "</div>\n",
              "    <div class=\"colab-df-buttons\">\n",
              "\n",
              "  <div class=\"colab-df-container\">\n",
              "    <button class=\"colab-df-convert\" onclick=\"convertToInteractive('df-d184bce2-3118-475d-bf3a-ff64d1e5b4fe')\"\n",
              "            title=\"Convert this dataframe to an interactive table.\"\n",
              "            style=\"display:none;\">\n",
              "\n",
              "  <svg xmlns=\"http://www.w3.org/2000/svg\" height=\"24px\" viewBox=\"0 -960 960 960\">\n",
              "    <path d=\"M120-120v-720h720v720H120Zm60-500h600v-160H180v160Zm220 220h160v-160H400v160Zm0 220h160v-160H400v160ZM180-400h160v-160H180v160Zm440 0h160v-160H620v160ZM180-180h160v-160H180v160Zm440 0h160v-160H620v160Z\"/>\n",
              "  </svg>\n",
              "    </button>\n",
              "\n",
              "  <style>\n",
              "    .colab-df-container {\n",
              "      display:flex;\n",
              "      gap: 12px;\n",
              "    }\n",
              "\n",
              "    .colab-df-convert {\n",
              "      background-color: #E8F0FE;\n",
              "      border: none;\n",
              "      border-radius: 50%;\n",
              "      cursor: pointer;\n",
              "      display: none;\n",
              "      fill: #1967D2;\n",
              "      height: 32px;\n",
              "      padding: 0 0 0 0;\n",
              "      width: 32px;\n",
              "    }\n",
              "\n",
              "    .colab-df-convert:hover {\n",
              "      background-color: #E2EBFA;\n",
              "      box-shadow: 0px 1px 2px rgba(60, 64, 67, 0.3), 0px 1px 3px 1px rgba(60, 64, 67, 0.15);\n",
              "      fill: #174EA6;\n",
              "    }\n",
              "\n",
              "    .colab-df-buttons div {\n",
              "      margin-bottom: 4px;\n",
              "    }\n",
              "\n",
              "    [theme=dark] .colab-df-convert {\n",
              "      background-color: #3B4455;\n",
              "      fill: #D2E3FC;\n",
              "    }\n",
              "\n",
              "    [theme=dark] .colab-df-convert:hover {\n",
              "      background-color: #434B5C;\n",
              "      box-shadow: 0px 1px 3px 1px rgba(0, 0, 0, 0.15);\n",
              "      filter: drop-shadow(0px 1px 2px rgba(0, 0, 0, 0.3));\n",
              "      fill: #FFFFFF;\n",
              "    }\n",
              "  </style>\n",
              "\n",
              "    <script>\n",
              "      const buttonEl =\n",
              "        document.querySelector('#df-d184bce2-3118-475d-bf3a-ff64d1e5b4fe button.colab-df-convert');\n",
              "      buttonEl.style.display =\n",
              "        google.colab.kernel.accessAllowed ? 'block' : 'none';\n",
              "\n",
              "      async function convertToInteractive(key) {\n",
              "        const element = document.querySelector('#df-d184bce2-3118-475d-bf3a-ff64d1e5b4fe');\n",
              "        const dataTable =\n",
              "          await google.colab.kernel.invokeFunction('convertToInteractive',\n",
              "                                                    [key], {});\n",
              "        if (!dataTable) return;\n",
              "\n",
              "        const docLinkHtml = 'Like what you see? Visit the ' +\n",
              "          '<a target=\"_blank\" href=https://colab.research.google.com/notebooks/data_table.ipynb>data table notebook</a>'\n",
              "          + ' to learn more about interactive tables.';\n",
              "        element.innerHTML = '';\n",
              "        dataTable['output_type'] = 'display_data';\n",
              "        await google.colab.output.renderOutput(dataTable, element);\n",
              "        const docLink = document.createElement('div');\n",
              "        docLink.innerHTML = docLinkHtml;\n",
              "        element.appendChild(docLink);\n",
              "      }\n",
              "    </script>\n",
              "  </div>\n",
              "\n",
              "\n",
              "    <div id=\"df-ab797401-782e-4932-bc27-a9b5c2e81924\">\n",
              "      <button class=\"colab-df-quickchart\" onclick=\"quickchart('df-ab797401-782e-4932-bc27-a9b5c2e81924')\"\n",
              "                title=\"Suggest charts\"\n",
              "                style=\"display:none;\">\n",
              "\n",
              "<svg xmlns=\"http://www.w3.org/2000/svg\" height=\"24px\"viewBox=\"0 0 24 24\"\n",
              "     width=\"24px\">\n",
              "    <g>\n",
              "        <path d=\"M19 3H5c-1.1 0-2 .9-2 2v14c0 1.1.9 2 2 2h14c1.1 0 2-.9 2-2V5c0-1.1-.9-2-2-2zM9 17H7v-7h2v7zm4 0h-2V7h2v10zm4 0h-2v-4h2v4z\"/>\n",
              "    </g>\n",
              "</svg>\n",
              "      </button>\n",
              "\n",
              "<style>\n",
              "  .colab-df-quickchart {\n",
              "      --bg-color: #E8F0FE;\n",
              "      --fill-color: #1967D2;\n",
              "      --hover-bg-color: #E2EBFA;\n",
              "      --hover-fill-color: #174EA6;\n",
              "      --disabled-fill-color: #AAA;\n",
              "      --disabled-bg-color: #DDD;\n",
              "  }\n",
              "\n",
              "  [theme=dark] .colab-df-quickchart {\n",
              "      --bg-color: #3B4455;\n",
              "      --fill-color: #D2E3FC;\n",
              "      --hover-bg-color: #434B5C;\n",
              "      --hover-fill-color: #FFFFFF;\n",
              "      --disabled-bg-color: #3B4455;\n",
              "      --disabled-fill-color: #666;\n",
              "  }\n",
              "\n",
              "  .colab-df-quickchart {\n",
              "    background-color: var(--bg-color);\n",
              "    border: none;\n",
              "    border-radius: 50%;\n",
              "    cursor: pointer;\n",
              "    display: none;\n",
              "    fill: var(--fill-color);\n",
              "    height: 32px;\n",
              "    padding: 0;\n",
              "    width: 32px;\n",
              "  }\n",
              "\n",
              "  .colab-df-quickchart:hover {\n",
              "    background-color: var(--hover-bg-color);\n",
              "    box-shadow: 0 1px 2px rgba(60, 64, 67, 0.3), 0 1px 3px 1px rgba(60, 64, 67, 0.15);\n",
              "    fill: var(--button-hover-fill-color);\n",
              "  }\n",
              "\n",
              "  .colab-df-quickchart-complete:disabled,\n",
              "  .colab-df-quickchart-complete:disabled:hover {\n",
              "    background-color: var(--disabled-bg-color);\n",
              "    fill: var(--disabled-fill-color);\n",
              "    box-shadow: none;\n",
              "  }\n",
              "\n",
              "  .colab-df-spinner {\n",
              "    border: 2px solid var(--fill-color);\n",
              "    border-color: transparent;\n",
              "    border-bottom-color: var(--fill-color);\n",
              "    animation:\n",
              "      spin 1s steps(1) infinite;\n",
              "  }\n",
              "\n",
              "  @keyframes spin {\n",
              "    0% {\n",
              "      border-color: transparent;\n",
              "      border-bottom-color: var(--fill-color);\n",
              "      border-left-color: var(--fill-color);\n",
              "    }\n",
              "    20% {\n",
              "      border-color: transparent;\n",
              "      border-left-color: var(--fill-color);\n",
              "      border-top-color: var(--fill-color);\n",
              "    }\n",
              "    30% {\n",
              "      border-color: transparent;\n",
              "      border-left-color: var(--fill-color);\n",
              "      border-top-color: var(--fill-color);\n",
              "      border-right-color: var(--fill-color);\n",
              "    }\n",
              "    40% {\n",
              "      border-color: transparent;\n",
              "      border-right-color: var(--fill-color);\n",
              "      border-top-color: var(--fill-color);\n",
              "    }\n",
              "    60% {\n",
              "      border-color: transparent;\n",
              "      border-right-color: var(--fill-color);\n",
              "    }\n",
              "    80% {\n",
              "      border-color: transparent;\n",
              "      border-right-color: var(--fill-color);\n",
              "      border-bottom-color: var(--fill-color);\n",
              "    }\n",
              "    90% {\n",
              "      border-color: transparent;\n",
              "      border-bottom-color: var(--fill-color);\n",
              "    }\n",
              "  }\n",
              "</style>\n",
              "\n",
              "      <script>\n",
              "        async function quickchart(key) {\n",
              "          const quickchartButtonEl =\n",
              "            document.querySelector('#' + key + ' button');\n",
              "          quickchartButtonEl.disabled = true;  // To prevent multiple clicks.\n",
              "          quickchartButtonEl.classList.add('colab-df-spinner');\n",
              "          try {\n",
              "            const charts = await google.colab.kernel.invokeFunction(\n",
              "                'suggestCharts', [key], {});\n",
              "          } catch (error) {\n",
              "            console.error('Error during call to suggestCharts:', error);\n",
              "          }\n",
              "          quickchartButtonEl.classList.remove('colab-df-spinner');\n",
              "          quickchartButtonEl.classList.add('colab-df-quickchart-complete');\n",
              "        }\n",
              "        (() => {\n",
              "          let quickchartButtonEl =\n",
              "            document.querySelector('#df-ab797401-782e-4932-bc27-a9b5c2e81924 button');\n",
              "          quickchartButtonEl.style.display =\n",
              "            google.colab.kernel.accessAllowed ? 'block' : 'none';\n",
              "        })();\n",
              "      </script>\n",
              "    </div>\n",
              "\n",
              "    </div>\n",
              "  </div>\n"
            ],
            "application/vnd.google.colaboratory.intrinsic+json": {
              "type": "dataframe",
              "variable_name": "cleaned_data"
            }
          },
          "metadata": {},
          "execution_count": 5
        }
      ]
    },
    {
      "cell_type": "code",
      "source": [
        "print(\"--- Actual 'Order Date' Format in the CSV ---\")\n",
        "print(cleaned_data['Order Date'].head())"
      ],
      "metadata": {
        "colab": {
          "base_uri": "https://localhost:8080/"
        },
        "id": "YWDnX46R2Zlc",
        "outputId": "22a649ca-a0a0-4190-e4b0-35866b9d4473"
      },
      "execution_count": null,
      "outputs": [
        {
          "output_type": "stream",
          "name": "stdout",
          "text": [
            "--- Actual 'Order Date' Format in the CSV ---\n",
            "0    2016-11-08\n",
            "1    2016-06-12\n",
            "2    2015-10-11\n",
            "3    2014-06-09\n",
            "4    2014-06-09\n",
            "Name: Order Date, dtype: object\n"
          ]
        }
      ]
    },
    {
      "cell_type": "code",
      "source": [
        "def create_rfm_dataframe(df: pd.DataFrame, min_orders_for_active_year: int = 10) -> pd.DataFrame:\n",
        "\n",
        "    working_df = df.copy()\n",
        "    print(f\"Data shape before validation: {working_df.shape}\")\n",
        "\n",
        "\n",
        "    working_df['Order Date'] = pd.to_datetime(working_df['Order Date'], errors='coerce')\n",
        "\n",
        "\n",
        "    if working_df['Order Date'].isnull().any():\n",
        "        print(\"ERROR\")\n",
        "\n",
        "        problematic_rows = df[working_df['Order Date'].isnull()]\n",
        "        print(\"Problematic Rows:\")\n",
        "        print(problematic_rows[['Order Date']].head())\n",
        "        return pd.DataFrame()\n",
        "\n",
        "\n",
        "    year_counts = working_df['Order Date'].dt.year.value_counts()\n",
        "    active_years = year_counts[year_counts >= min_orders_for_active_year].index\n",
        "\n",
        "    if active_years.empty:\n",
        "        print(\"ERROR: No active years found\")\n",
        "        return pd.DataFrame()\n",
        "\n",
        "    start_year, end_year = active_years.min(), active_years.max()\n",
        "    print(f\"Applying business rule: Filtering data to the core activity window of {start_year}-{end_year}.\")\n",
        "\n",
        "    filtered_df = working_df[working_df['Order Date'].dt.year.between(start_year, end_year)]\n",
        "    print(f\"Data shape after filtering: {filtered_df.shape}\")\n",
        "\n",
        "    # --- 3. RFM Calculation ---\n",
        "    snapshot_date = filtered_df['Order Date'].max() + pd.Timedelta(days=1)\n",
        "\n",
        "    rfm_df = filtered_df.groupby('Customer ID').agg({\n",
        "        'Order Date': lambda x: (snapshot_date - x.max()).days,\n",
        "        'Order ID': 'nunique',\n",
        "        'Total Sales': 'sum'\n",
        "    })\n",
        "\n",
        "    rfm_df.rename(columns={'Order Date': 'Recency',\n",
        "                           'Order ID': 'Frequency',\n",
        "                           'Total Sales': 'MonetaryValue'},\n",
        "                  inplace=True)\n",
        "\n",
        "    print(\"Successfully created validated RFM DataFrame.\")\n",
        "    return rfm_df\n",
        "\n",
        "# --- Re-run the function and print the head ---\n",
        "rfm_customer_data = create_rfm_dataframe(cleaned_data)\n",
        "print(\"\\n--- Final, Validated RFM DataFrame Head ---\")\n",
        "print(rfm_customer_data.head())"
      ],
      "metadata": {
        "colab": {
          "base_uri": "https://localhost:8080/"
        },
        "id": "VeBiHe_6r7Eb",
        "outputId": "72dda1f5-83c5-430e-ae33-22f3b7f51a1b"
      },
      "execution_count": null,
      "outputs": [
        {
          "output_type": "stream",
          "name": "stdout",
          "text": [
            "Data shape before validation: (8447, 35)\n",
            "Applying business rule: Filtering data to the core activity window of 2014-2017.\n",
            "Data shape after filtering: (8439, 35)\n",
            "Successfully created validated RFM DataFrame.\n",
            "\n",
            "--- Final, Validated RFM DataFrame Head ---\n",
            "             Recency  Frequency  MonetaryValue\n",
            "Customer ID                                   \n",
            "AA-10315         185          5       1847.172\n",
            "AA-10375          20          9       1734.870\n",
            "AA-10480         260          4       2262.666\n",
            "AA-10645          56          6       5642.880\n",
            "AB-10015         416          3       1984.480\n"
          ]
        }
      ]
    },
    {
      "cell_type": "code",
      "source": [
        "\n",
        "print(\"--- Statistical Summary of the RFM DataFrame ---\")\n",
        "rfm_customer_data.describe()"
      ],
      "metadata": {
        "colab": {
          "base_uri": "https://localhost:8080/",
          "height": 317
        },
        "id": "D-LHAuO602Id",
        "outputId": "ac10f105-34ec-43fe-b340-8c98e3973d34"
      },
      "execution_count": null,
      "outputs": [
        {
          "output_type": "stream",
          "name": "stdout",
          "text": [
            "--- Statistical Summary of the RFM DataFrame ---\n"
          ]
        },
        {
          "output_type": "execute_result",
          "data": {
            "text/plain": [
              "           Recency   Frequency  MonetaryValue\n",
              "count   789.000000  789.000000     789.000000\n",
              "mean    161.634981    5.842839    3865.490128\n",
              "std     199.052186    2.420962    2925.952596\n",
              "min       1.000000    1.000000      10.449000\n",
              "25%      34.000000    4.000000    1734.870000\n",
              "50%      85.000000    6.000000    3228.368000\n",
              "75%     203.000000    7.000000    5122.676000\n",
              "max    1166.000000   14.000000   16814.386000"
            ],
            "text/html": [
              "\n",
              "  <div id=\"df-e92b6815-bbe9-450b-8d55-290dc2fb094b\" class=\"colab-df-container\">\n",
              "    <div>\n",
              "<style scoped>\n",
              "    .dataframe tbody tr th:only-of-type {\n",
              "        vertical-align: middle;\n",
              "    }\n",
              "\n",
              "    .dataframe tbody tr th {\n",
              "        vertical-align: top;\n",
              "    }\n",
              "\n",
              "    .dataframe thead th {\n",
              "        text-align: right;\n",
              "    }\n",
              "</style>\n",
              "<table border=\"1\" class=\"dataframe\">\n",
              "  <thead>\n",
              "    <tr style=\"text-align: right;\">\n",
              "      <th></th>\n",
              "      <th>Recency</th>\n",
              "      <th>Frequency</th>\n",
              "      <th>MonetaryValue</th>\n",
              "    </tr>\n",
              "  </thead>\n",
              "  <tbody>\n",
              "    <tr>\n",
              "      <th>count</th>\n",
              "      <td>789.000000</td>\n",
              "      <td>789.000000</td>\n",
              "      <td>789.000000</td>\n",
              "    </tr>\n",
              "    <tr>\n",
              "      <th>mean</th>\n",
              "      <td>161.634981</td>\n",
              "      <td>5.842839</td>\n",
              "      <td>3865.490128</td>\n",
              "    </tr>\n",
              "    <tr>\n",
              "      <th>std</th>\n",
              "      <td>199.052186</td>\n",
              "      <td>2.420962</td>\n",
              "      <td>2925.952596</td>\n",
              "    </tr>\n",
              "    <tr>\n",
              "      <th>min</th>\n",
              "      <td>1.000000</td>\n",
              "      <td>1.000000</td>\n",
              "      <td>10.449000</td>\n",
              "    </tr>\n",
              "    <tr>\n",
              "      <th>25%</th>\n",
              "      <td>34.000000</td>\n",
              "      <td>4.000000</td>\n",
              "      <td>1734.870000</td>\n",
              "    </tr>\n",
              "    <tr>\n",
              "      <th>50%</th>\n",
              "      <td>85.000000</td>\n",
              "      <td>6.000000</td>\n",
              "      <td>3228.368000</td>\n",
              "    </tr>\n",
              "    <tr>\n",
              "      <th>75%</th>\n",
              "      <td>203.000000</td>\n",
              "      <td>7.000000</td>\n",
              "      <td>5122.676000</td>\n",
              "    </tr>\n",
              "    <tr>\n",
              "      <th>max</th>\n",
              "      <td>1166.000000</td>\n",
              "      <td>14.000000</td>\n",
              "      <td>16814.386000</td>\n",
              "    </tr>\n",
              "  </tbody>\n",
              "</table>\n",
              "</div>\n",
              "    <div class=\"colab-df-buttons\">\n",
              "\n",
              "  <div class=\"colab-df-container\">\n",
              "    <button class=\"colab-df-convert\" onclick=\"convertToInteractive('df-e92b6815-bbe9-450b-8d55-290dc2fb094b')\"\n",
              "            title=\"Convert this dataframe to an interactive table.\"\n",
              "            style=\"display:none;\">\n",
              "\n",
              "  <svg xmlns=\"http://www.w3.org/2000/svg\" height=\"24px\" viewBox=\"0 -960 960 960\">\n",
              "    <path d=\"M120-120v-720h720v720H120Zm60-500h600v-160H180v160Zm220 220h160v-160H400v160Zm0 220h160v-160H400v160ZM180-400h160v-160H180v160Zm440 0h160v-160H620v160ZM180-180h160v-160H180v160Zm440 0h160v-160H620v160Z\"/>\n",
              "  </svg>\n",
              "    </button>\n",
              "\n",
              "  <style>\n",
              "    .colab-df-container {\n",
              "      display:flex;\n",
              "      gap: 12px;\n",
              "    }\n",
              "\n",
              "    .colab-df-convert {\n",
              "      background-color: #E8F0FE;\n",
              "      border: none;\n",
              "      border-radius: 50%;\n",
              "      cursor: pointer;\n",
              "      display: none;\n",
              "      fill: #1967D2;\n",
              "      height: 32px;\n",
              "      padding: 0 0 0 0;\n",
              "      width: 32px;\n",
              "    }\n",
              "\n",
              "    .colab-df-convert:hover {\n",
              "      background-color: #E2EBFA;\n",
              "      box-shadow: 0px 1px 2px rgba(60, 64, 67, 0.3), 0px 1px 3px 1px rgba(60, 64, 67, 0.15);\n",
              "      fill: #174EA6;\n",
              "    }\n",
              "\n",
              "    .colab-df-buttons div {\n",
              "      margin-bottom: 4px;\n",
              "    }\n",
              "\n",
              "    [theme=dark] .colab-df-convert {\n",
              "      background-color: #3B4455;\n",
              "      fill: #D2E3FC;\n",
              "    }\n",
              "\n",
              "    [theme=dark] .colab-df-convert:hover {\n",
              "      background-color: #434B5C;\n",
              "      box-shadow: 0px 1px 3px 1px rgba(0, 0, 0, 0.15);\n",
              "      filter: drop-shadow(0px 1px 2px rgba(0, 0, 0, 0.3));\n",
              "      fill: #FFFFFF;\n",
              "    }\n",
              "  </style>\n",
              "\n",
              "    <script>\n",
              "      const buttonEl =\n",
              "        document.querySelector('#df-e92b6815-bbe9-450b-8d55-290dc2fb094b button.colab-df-convert');\n",
              "      buttonEl.style.display =\n",
              "        google.colab.kernel.accessAllowed ? 'block' : 'none';\n",
              "\n",
              "      async function convertToInteractive(key) {\n",
              "        const element = document.querySelector('#df-e92b6815-bbe9-450b-8d55-290dc2fb094b');\n",
              "        const dataTable =\n",
              "          await google.colab.kernel.invokeFunction('convertToInteractive',\n",
              "                                                    [key], {});\n",
              "        if (!dataTable) return;\n",
              "\n",
              "        const docLinkHtml = 'Like what you see? Visit the ' +\n",
              "          '<a target=\"_blank\" href=https://colab.research.google.com/notebooks/data_table.ipynb>data table notebook</a>'\n",
              "          + ' to learn more about interactive tables.';\n",
              "        element.innerHTML = '';\n",
              "        dataTable['output_type'] = 'display_data';\n",
              "        await google.colab.output.renderOutput(dataTable, element);\n",
              "        const docLink = document.createElement('div');\n",
              "        docLink.innerHTML = docLinkHtml;\n",
              "        element.appendChild(docLink);\n",
              "      }\n",
              "    </script>\n",
              "  </div>\n",
              "\n",
              "\n",
              "    <div id=\"df-6f21f15e-7c84-4db5-acce-737e3c5e717c\">\n",
              "      <button class=\"colab-df-quickchart\" onclick=\"quickchart('df-6f21f15e-7c84-4db5-acce-737e3c5e717c')\"\n",
              "                title=\"Suggest charts\"\n",
              "                style=\"display:none;\">\n",
              "\n",
              "<svg xmlns=\"http://www.w3.org/2000/svg\" height=\"24px\"viewBox=\"0 0 24 24\"\n",
              "     width=\"24px\">\n",
              "    <g>\n",
              "        <path d=\"M19 3H5c-1.1 0-2 .9-2 2v14c0 1.1.9 2 2 2h14c1.1 0 2-.9 2-2V5c0-1.1-.9-2-2-2zM9 17H7v-7h2v7zm4 0h-2V7h2v10zm4 0h-2v-4h2v4z\"/>\n",
              "    </g>\n",
              "</svg>\n",
              "      </button>\n",
              "\n",
              "<style>\n",
              "  .colab-df-quickchart {\n",
              "      --bg-color: #E8F0FE;\n",
              "      --fill-color: #1967D2;\n",
              "      --hover-bg-color: #E2EBFA;\n",
              "      --hover-fill-color: #174EA6;\n",
              "      --disabled-fill-color: #AAA;\n",
              "      --disabled-bg-color: #DDD;\n",
              "  }\n",
              "\n",
              "  [theme=dark] .colab-df-quickchart {\n",
              "      --bg-color: #3B4455;\n",
              "      --fill-color: #D2E3FC;\n",
              "      --hover-bg-color: #434B5C;\n",
              "      --hover-fill-color: #FFFFFF;\n",
              "      --disabled-bg-color: #3B4455;\n",
              "      --disabled-fill-color: #666;\n",
              "  }\n",
              "\n",
              "  .colab-df-quickchart {\n",
              "    background-color: var(--bg-color);\n",
              "    border: none;\n",
              "    border-radius: 50%;\n",
              "    cursor: pointer;\n",
              "    display: none;\n",
              "    fill: var(--fill-color);\n",
              "    height: 32px;\n",
              "    padding: 0;\n",
              "    width: 32px;\n",
              "  }\n",
              "\n",
              "  .colab-df-quickchart:hover {\n",
              "    background-color: var(--hover-bg-color);\n",
              "    box-shadow: 0 1px 2px rgba(60, 64, 67, 0.3), 0 1px 3px 1px rgba(60, 64, 67, 0.15);\n",
              "    fill: var(--button-hover-fill-color);\n",
              "  }\n",
              "\n",
              "  .colab-df-quickchart-complete:disabled,\n",
              "  .colab-df-quickchart-complete:disabled:hover {\n",
              "    background-color: var(--disabled-bg-color);\n",
              "    fill: var(--disabled-fill-color);\n",
              "    box-shadow: none;\n",
              "  }\n",
              "\n",
              "  .colab-df-spinner {\n",
              "    border: 2px solid var(--fill-color);\n",
              "    border-color: transparent;\n",
              "    border-bottom-color: var(--fill-color);\n",
              "    animation:\n",
              "      spin 1s steps(1) infinite;\n",
              "  }\n",
              "\n",
              "  @keyframes spin {\n",
              "    0% {\n",
              "      border-color: transparent;\n",
              "      border-bottom-color: var(--fill-color);\n",
              "      border-left-color: var(--fill-color);\n",
              "    }\n",
              "    20% {\n",
              "      border-color: transparent;\n",
              "      border-left-color: var(--fill-color);\n",
              "      border-top-color: var(--fill-color);\n",
              "    }\n",
              "    30% {\n",
              "      border-color: transparent;\n",
              "      border-left-color: var(--fill-color);\n",
              "      border-top-color: var(--fill-color);\n",
              "      border-right-color: var(--fill-color);\n",
              "    }\n",
              "    40% {\n",
              "      border-color: transparent;\n",
              "      border-right-color: var(--fill-color);\n",
              "      border-top-color: var(--fill-color);\n",
              "    }\n",
              "    60% {\n",
              "      border-color: transparent;\n",
              "      border-right-color: var(--fill-color);\n",
              "    }\n",
              "    80% {\n",
              "      border-color: transparent;\n",
              "      border-right-color: var(--fill-color);\n",
              "      border-bottom-color: var(--fill-color);\n",
              "    }\n",
              "    90% {\n",
              "      border-color: transparent;\n",
              "      border-bottom-color: var(--fill-color);\n",
              "    }\n",
              "  }\n",
              "</style>\n",
              "\n",
              "      <script>\n",
              "        async function quickchart(key) {\n",
              "          const quickchartButtonEl =\n",
              "            document.querySelector('#' + key + ' button');\n",
              "          quickchartButtonEl.disabled = true;  // To prevent multiple clicks.\n",
              "          quickchartButtonEl.classList.add('colab-df-spinner');\n",
              "          try {\n",
              "            const charts = await google.colab.kernel.invokeFunction(\n",
              "                'suggestCharts', [key], {});\n",
              "          } catch (error) {\n",
              "            console.error('Error during call to suggestCharts:', error);\n",
              "          }\n",
              "          quickchartButtonEl.classList.remove('colab-df-spinner');\n",
              "          quickchartButtonEl.classList.add('colab-df-quickchart-complete');\n",
              "        }\n",
              "        (() => {\n",
              "          let quickchartButtonEl =\n",
              "            document.querySelector('#df-6f21f15e-7c84-4db5-acce-737e3c5e717c button');\n",
              "          quickchartButtonEl.style.display =\n",
              "            google.colab.kernel.accessAllowed ? 'block' : 'none';\n",
              "        })();\n",
              "      </script>\n",
              "    </div>\n",
              "\n",
              "    </div>\n",
              "  </div>\n"
            ],
            "application/vnd.google.colaboratory.intrinsic+json": {
              "type": "dataframe",
              "summary": "{\n  \"name\": \"rfm_customer_data\",\n  \"rows\": 8,\n  \"fields\": [\n    {\n      \"column\": \"Recency\",\n      \"properties\": {\n        \"dtype\": \"number\",\n        \"std\": 418.68533943787065,\n        \"min\": 1.0,\n        \"max\": 1166.0,\n        \"num_unique_values\": 8,\n        \"samples\": [\n          161.63498098859316,\n          85.0,\n          789.0\n        ],\n        \"semantic_type\": \"\",\n        \"description\": \"\"\n      }\n    },\n    {\n      \"column\": \"Frequency\",\n      \"properties\": {\n        \"dtype\": \"number\",\n        \"std\": 276.9474404513707,\n        \"min\": 1.0,\n        \"max\": 789.0,\n        \"num_unique_values\": 8,\n        \"samples\": [\n          5.842839036755387,\n          6.0,\n          789.0\n        ],\n        \"semantic_type\": \"\",\n        \"description\": \"\"\n      }\n    },\n    {\n      \"column\": \"MonetaryValue\",\n      \"properties\": {\n        \"dtype\": \"number\",\n        \"std\": 5315.987668019727,\n        \"min\": 10.449,\n        \"max\": 16814.386,\n        \"num_unique_values\": 8,\n        \"samples\": [\n          3865.4901280101394,\n          3228.368,\n          789.0\n        ],\n        \"semantic_type\": \"\",\n        \"description\": \"\"\n      }\n    }\n  ]\n}"
            }
          },
          "metadata": {},
          "execution_count": 8
        }
      ]
    },
    {
      "cell_type": "markdown",
      "source": [
        "# Customer Segmentation\n",
        "\n",
        "\n",
        "**Strategic Overview:** We first do the RFM analysis. Now we must answer the business question: *Who are our distinct customer groups?*\n",
        "\n",
        "We will use the K-Means algorithm to segment customers based on their purchasing behavior (Recency, Frequency, Monetary value).\n",
        "\n",
        "\n",
        "\n",
        "The K-Means algorithm is distance-based. It is highly sensitive to the scale of the features. Currently, Recency is in days, Frequency is a small integer count, and MonetaryValue is in thousands of dollars. Without scaling, the MonetaryValue would completely dominate the clustering process. We use StandardScaler to give each feature equal importance."
      ],
      "metadata": {
        "id": "sjpvhNNV5arW"
      }
    },
    {
      "cell_type": "code",
      "source": [
        "rfm_features = rfm_customer_data[['Recency', 'Frequency', 'MonetaryValue']]\n",
        "print(f\"Features prepared for clustering. Shape: {rfm_features.shape}\")"
      ],
      "metadata": {
        "colab": {
          "base_uri": "https://localhost:8080/"
        },
        "id": "aDWAuZif2uWg",
        "outputId": "52029de4-9d0a-45b0-d0d6-366b501e4f4a"
      },
      "execution_count": null,
      "outputs": [
        {
          "output_type": "stream",
          "name": "stdout",
          "text": [
            "Features prepared for clustering. Shape: (789, 3)\n"
          ]
        }
      ]
    },
    {
      "cell_type": "markdown",
      "source": [
        "### finding optimal k"
      ],
      "metadata": {
        "id": "a5FeSulC5qyA"
      }
    },
    {
      "cell_type": "code",
      "source": [
        "scaler = StandardScaler()\n",
        "rfm_scaled = scaler.fit_transform(rfm_features)\n",
        "\n",
        "inertia = []\n",
        "K_range = range(2, 11)\n",
        "\n",
        "for k in K_range:\n",
        "    kmeans = KMeans(n_clusters=k, random_state=42, n_init=10)\n",
        "    kmeans.fit(rfm_scaled)\n",
        "    inertia.append(kmeans.inertia_)"
      ],
      "metadata": {
        "id": "52K6A0oG5nVU"
      },
      "execution_count": null,
      "outputs": []
    },
    {
      "cell_type": "code",
      "source": [
        "silhouette_scores = []\n",
        "for k in K_range:\n",
        "    kmeans = KMeans(n_clusters=k, random_state=42, n_init=10)\n",
        "    labels = kmeans.fit_predict(rfm_scaled)\n",
        "    silhouette_scores.append(silhouette_score(rfm_scaled, labels))"
      ],
      "metadata": {
        "id": "fJ-EaRDXRiYW"
      },
      "execution_count": null,
      "outputs": []
    },
    {
      "cell_type": "code",
      "source": [
        "fig, (ax1, ax2) = plt.subplots(1, 2, figsize=(18, 6))\n",
        "# elbow\n",
        "ax1.plot(K_range, inertia, marker='o', linestyle='--')\n",
        "ax1.set_title('Elbow Method')\n",
        "ax1.set_xlabel('Number of Clusters (K)')\n",
        "ax1.set_ylabel('Inertia')\n",
        "ax1.grid(True)\n",
        "# silhouette\n",
        "ax2.plot(K_range, silhouette_scores, marker='o', linestyle='--')\n",
        "ax2.set_title('Silhouette Score Method')\n",
        "ax2.set_xlabel('Number of Clusters (K)')\n",
        "ax2.set_ylabel('Silhouette Score')\n",
        "ax2.grid(True)"
      ],
      "metadata": {
        "colab": {
          "base_uri": "https://localhost:8080/",
          "height": 393
        },
        "id": "qpyXPFxiRlkp",
        "outputId": "8d345354-7e3f-4a19-b784-4a92c0c286f5"
      },
      "execution_count": null,
      "outputs": [
        {
          "output_type": "display_data",
          "data": {
            "text/plain": [
              "<Figure size 1800x600 with 2 Axes>"
            ],
            "image/png": "[encoded data removed]"
          },
          "metadata": {}
        }
      ]
    },
    {
      "cell_type": "markdown",
      "source": [
        "#### Determining the Optimal Number of Clusters (`k`)\n",
        "\n",
        "A dual-validation approach was used to find the optimal `k` for customer segmentation.\n",
        "\n",
        "**1. Elbow Method:**\n",
        "* Plotted inertia for `k` from 2 to 10.\n",
        "* The curve flattened after `k=4`, suggesting an optimal `k` between 3 and 5.\n",
        "* **Result:** Ambiguous, as the \"elbow\" was not sharply defined.\n",
        "\n",
        "**2. Silhouette Score:**\n",
        "* Calculated to measure cluster density and separation for each `k`.\n",
        "* The analysis showed a clear and unambiguous peak score of **`~0.37`** at **`k=3`**.\n",
        "\n",
        "**Conclusion & Justification:**\n",
        "The Silhouette Score provides a more decisive, quantitative measure of cluster quality. Therefore, we select **`k=3`** as the optimal number of clusters, ensuring our segments are distinct and statistically significant."
      ],
      "metadata": {
        "id": "eX10WBaqNj0U"
      }
    },
    {
      "cell_type": "code",
      "source": [],
      "metadata": {
        "id": "7gT9VmLTRWGs"
      },
      "execution_count": null,
      "outputs": []
    },
    {
      "cell_type": "code",
      "source": [
        "optimal_k = 3\n",
        "\n",
        "pipeline = make_pipeline(\n",
        "    StandardScaler(),\n",
        "    KMeans(n_clusters=optimal_k, random_state=42, n_init=10)\n",
        ")"
      ],
      "metadata": {
        "id": "t63hKF745yLB"
      },
      "execution_count": null,
      "outputs": []
    },
    {
      "cell_type": "code",
      "source": [
        "print(f\"\\nTraining the customer segmentation pipeline with K={optimal_k}...\")\n",
        "pipeline.fit(rfm_features)\n",
        "print(\"Training complete.\")"
      ],
      "metadata": {
        "colab": {
          "base_uri": "https://localhost:8080/"
        },
        "id": "AYLUEl7GNyiL",
        "outputId": "125389f2-70c4-45f2-ddb5-c1a349a9e4f4"
      },
      "execution_count": null,
      "outputs": [
        {
          "output_type": "stream",
          "name": "stdout",
          "text": [
            "\n",
            "Training the customer segmentation pipeline with K=3...\n",
            "Training complete.\n"
          ]
        }
      ]
    },
    {
      "cell_type": "code",
      "source": [
        "rfm_customer_data['cluster_label'] = pipeline.predict(rfm_features)\n",
        "\n",
        "\n"
      ],
      "metadata": {
        "id": "V8aWcgFsN1lE"
      },
      "execution_count": null,
      "outputs": []
    },
    {
      "cell_type": "code",
      "source": [
        "print(f\"\\n--- RFM DataFrame with Cluster Labels ---\")\n",
        "print(rfm_customer_data.head())\n",
        "\n",
        "print(\"\\n--- Customer Distribution per Cluster ---\")\n",
        "print(rfm_customer_data['cluster_label'].value_counts().sort_index())"
      ],
      "metadata": {
        "colab": {
          "base_uri": "https://localhost:8080/"
        },
        "id": "D0lGYw_oN5Jh",
        "outputId": "a30dfefe-9c53-4cc4-a9d3-6db1e3b2b2ed"
      },
      "execution_count": null,
      "outputs": [
        {
          "output_type": "stream",
          "name": "stdout",
          "text": [
            "\n",
            "--- RFM DataFrame with Cluster Labels ---\n",
            "             Recency  Frequency  MonetaryValue  cluster_label\n",
            "Customer ID                                                  \n",
            "AA-10315         185          5       1847.172              2\n",
            "AA-10375          20          9       1734.870              2\n",
            "AA-10480         260          4       2262.666              2\n",
            "AA-10645          56          6       5642.880              1\n",
            "AB-10015         416          3       1984.480              0\n",
            "\n",
            "--- Customer Distribution per Cluster ---\n",
            "cluster_label\n",
            "0    123\n",
            "1    247\n",
            "2    419\n",
            "Name: count, dtype: int64\n"
          ]
        }
      ]
    },
    {
      "cell_type": "code",
      "source": [
        "pipeline_filename = '/content/drive/MyDrive/models/customer3_segmentation_pipeline.joblib'\n",
        "joblib.dump(pipeline, pipeline_filename)"
      ],
      "metadata": {
        "colab": {
          "base_uri": "https://localhost:8080/"
        },
        "id": "D7yAE1IWODrJ",
        "outputId": "a14b451f-2802-4de4-bc22-d52e5179e09f"
      },
      "execution_count": null,
      "outputs": [
        {
          "output_type": "execute_result",
          "data": {
            "text/plain": [
              "['/content/drive/MyDrive/models/customer3_segmentation_pipeline.joblib']"
            ]
          },
          "metadata": {},
          "execution_count": 17
        }
      ]
    },
    {
      "cell_type": "markdown",
      "source": [
        "### Analyzing Cluster Characteristics"
      ],
      "metadata": {
        "id": "NMwbBtuJO3M9"
      }
    },
    {
      "cell_type": "code",
      "source": [
        "#group by the new cluster label, calculate the mean for each RFM attribute.\n",
        "\n",
        "cluster_profiles = rfm_customer_data.groupby('cluster_label').agg({\n",
        "    'Recency': 'mean',\n",
        "    'Frequency': 'mean',\n",
        "    'MonetaryValue': 'mean',\n",
        "    'Recency': ['mean', 'count']\n",
        "}).round(1)\n",
        "\n",
        "cluster_profiles.columns = ['Recency_mean', 'Customer_Count', 'Frequency_mean', 'MonetaryValue_mean']\n",
        "\n",
        "cluster_profiles = cluster_profiles[['Recency_mean', 'Frequency_mean', 'MonetaryValue_mean', 'Customer_Count']]\n",
        "\n",
        "\n",
        "print(\"\\n--- Customer Segment Profiles ---\")\n",
        "print(cluster_profiles.sort_values(by='MonetaryValue_mean', ascending=False))"
      ],
      "metadata": {
        "colab": {
          "base_uri": "https://localhost:8080/"
        },
        "id": "rVLs-cmJOmvZ",
        "outputId": "1ca62bb1-6a8b-4b3e-937b-9d46be9321a0"
      },
      "execution_count": null,
      "outputs": [
        {
          "output_type": "stream",
          "name": "stdout",
          "text": [
            "\n",
            "--- Customer Segment Profiles ---\n",
            "               Recency_mean  Frequency_mean  MonetaryValue_mean  \\\n",
            "cluster_label                                                     \n",
            "1                      82.2             8.4              6814.0   \n",
            "2                      94.7             5.0              2585.1   \n",
            "0                     549.3             3.5              2306.1   \n",
            "\n",
            "               Customer_Count  \n",
            "cluster_label                  \n",
            "1                         247  \n",
            "2                         419  \n",
            "0                         123  \n"
          ]
        }
      ]
    },
    {
      "cell_type": "markdown",
      "source": [
        "# Advanced Segmentation"
      ],
      "metadata": {
        "id": "v_Niz5FGI9Uv"
      }
    },
    {
      "cell_type": "code",
      "source": [
        "\n",
        "import pandas as pd\n",
        "import numpy as np\n",
        "from sklearn.preprocessing import StandardScaler\n",
        "import tensorflow as tf\n",
        "from tensorflow.keras.models import Model\n",
        "from tensorflow.keras.layers import Input, Dense\n",
        "from tensorflow.keras.optimizers import Adam\n",
        "\n",
        "print(\"--- Starting Phase 3.2 (Part 1): Autoencoder Setup ---\")\n",
        "\n",
        "\n",
        "rfm_features = rfm_customer_data[['Recency', 'Frequency', 'MonetaryValue']]\n",
        "scaler = StandardScaler()\n",
        "rfm_scaled = scaler.fit_transform(rfm_features)\n",
        "print(f\"RFM data prepared and scaled. Shape: {rfm_scaled.shape}\")\n",
        "\n",
        "\n",
        "input_dim = rfm_scaled.shape[1]\n",
        "encoding_dim = 2\n",
        "\n",
        "# Input layer\n",
        "input_layer = Input(shape=(input_dim,))\n",
        "# Encoder layers\n",
        "encoder = Dense(16, activation='relu')(input_layer)\n",
        "encoder = Dense(8, activation='relu')(encoder)\n",
        "encoder = Dense(encoding_dim, activation='relu')(encoder)\n",
        "# Decoder layers\n",
        "decoder = Dense(8, activation='relu')(encoder)\n",
        "decoder = Dense(16, activation='relu')(decoder)\n",
        "decoder = Dense(input_dim, activation='sigmoid')(decoder)\n",
        "\n",
        "# Define the full autoencoder model\n",
        "autoencoder = Model(inputs=input_layer, outputs=decoder)\n",
        "# Define the encoder-only model for extracting embeddings later\n",
        "encoder_model = Model(inputs=input_layer, outputs=encoder)\n",
        "\n",
        "# Compile the autoencoder so it's ready for training\n",
        "autoencoder.compile(optimizer='adam', loss='mean_squared_error')\n",
        "\n",
        "print(\"\\nAutoencoder model architecture defined and compiled.\")\n",
        "print(\"Model Summary:\")\n",
        "autoencoder.summary()\n",
        "\n",
        "print(\"\\n--- Part 1 Complete. You are now ready for training. ---\")\n",
        "print(\"RECOMMENDATION: If not already, switch to a GPU runtime for the next code block.\")"
      ],
      "metadata": {
        "colab": {
          "base_uri": "https://localhost:8080/",
          "height": 492
        },
        "id": "wi0l4unZGBkU",
        "outputId": "333b8f80-c080-4f62-ddff-8e2afd9f6f49"
      },
      "execution_count": null,
      "outputs": [
        {
          "output_type": "stream",
          "name": "stdout",
          "text": [
            "--- Starting Phase 3.2 (Part 1): Autoencoder Setup ---\n",
            "RFM data prepared and scaled. Shape: (789, 3)\n",
            "\n",
            "Autoencoder model architecture defined and compiled.\n",
            "Model Summary:\n"
          ]
        },
        {
          "output_type": "display_data",
          "data": {
            "text/plain": [
              "\u001b[1mModel: \"functional\"\u001b[0m\n"
            ],
            "text/html": [
              "<pre style=\"white-space:pre;overflow-x:auto;line-height:normal;font-family:Menlo,'DejaVu Sans Mono',consolas,'Courier New',monospace\"><span style=\"font-weight: bold\">Model: \"functional\"</span>\n",
              "</pre>\n"
            ]
          },
          "metadata": {}
        },
        {
          "output_type": "display_data",
          "data": {
            "text/plain": [
              "┏━━━━━━━━━━━━━━━━━━━━━━━━━━━━━━━━━┳━━━━━━━━━━━━━━━━━━━━━━━━┳━━━━━━━━━━━━━━━┓\n",
              "┃\u001b[1m \u001b[0m\u001b[1mLayer (type)                   \u001b[0m\u001b[1m \u001b[0m┃\u001b[1m \u001b[0m\u001b[1mOutput Shape          \u001b[0m\u001b[1m \u001b[0m┃\u001b[1m \u001b[0m\u001b[1m      Param #\u001b[0m\u001b[1m \u001b[0m┃\n",
              "┡━━━━━━━━━━━━━━━━━━━━━━━━━━━━━━━━━╇━━━━━━━━━━━━━━━━━━━━━━━━╇━━━━━━━━━━━━━━━┩\n",
              "│ input_layer (\u001b[38;5;33mInputLayer\u001b[0m)        │ (\u001b[38;5;45mNone\u001b[0m, \u001b[38;5;34m3\u001b[0m)              │             \u001b[38;5;34m0\u001b[0m │\n",
              "├─────────────────────────────────┼────────────────────────┼───────────────┤\n",
              "│ dense (\u001b[38;5;33mDense\u001b[0m)                   │ (\u001b[38;5;45mNone\u001b[0m, \u001b[38;5;34m16\u001b[0m)             │            \u001b[38;5;34m64\u001b[0m │\n",
              "├─────────────────────────────────┼────────────────────────┼───────────────┤\n",
              "│ dense_1 (\u001b[38;5;33mDense\u001b[0m)                 │ (\u001b[38;5;45mNone\u001b[0m, \u001b[38;5;34m8\u001b[0m)              │           \u001b[38;5;34m136\u001b[0m │\n",
              "├─────────────────────────────────┼────────────────────────┼───────────────┤\n",
              "│ dense_2 (\u001b[38;5;33mDense\u001b[0m)                 │ (\u001b[38;5;45mNone\u001b[0m, \u001b[38;5;34m2\u001b[0m)              │            \u001b[38;5;34m18\u001b[0m │\n",
              "├─────────────────────────────────┼────────────────────────┼───────────────┤\n",
              "│ dense_3 (\u001b[38;5;33mDense\u001b[0m)                 │ (\u001b[38;5;45mNone\u001b[0m, \u001b[38;5;34m8\u001b[0m)              │            \u001b[38;5;34m24\u001b[0m │\n",
              "├─────────────────────────────────┼────────────────────────┼───────────────┤\n",
              "│ dense_4 (\u001b[38;5;33mDense\u001b[0m)                 │ (\u001b[38;5;45mNone\u001b[0m, \u001b[38;5;34m16\u001b[0m)             │           \u001b[38;5;34m144\u001b[0m │\n",
              "├─────────────────────────────────┼────────────────────────┼───────────────┤\n",
              "│ dense_5 (\u001b[38;5;33mDense\u001b[0m)                 │ (\u001b[38;5;45mNone\u001b[0m, \u001b[38;5;34m3\u001b[0m)              │            \u001b[38;5;34m51\u001b[0m │\n",
              "└─────────────────────────────────┴────────────────────────┴───────────────┘\n"
            ],
            "text/html": [
              "<pre style=\"white-space:pre;overflow-x:auto;line-height:normal;font-family:Menlo,'DejaVu Sans Mono',consolas,'Courier New',monospace\">┏━━━━━━━━━━━━━━━━━━━━━━━━━━━━━━━━━┳━━━━━━━━━━━━━━━━━━━━━━━━┳━━━━━━━━━━━━━━━┓\n",
              "┃<span style=\"font-weight: bold\"> Layer (type)                    </span>┃<span style=\"font-weight: bold\"> Output Shape           </span>┃<span style=\"font-weight: bold\">       Param # </span>┃\n",
              "┡━━━━━━━━━━━━━━━━━━━━━━━━━━━━━━━━━╇━━━━━━━━━━━━━━━━━━━━━━━━╇━━━━━━━━━━━━━━━┩\n",
              "│ input_layer (<span style=\"color: #0087ff; text-decoration-color: #0087ff\">InputLayer</span>)        │ (<span style=\"color: #00d7ff; text-decoration-color: #00d7ff\">None</span>, <span style=\"color: #00af00; text-decoration-color: #00af00\">3</span>)              │             <span style=\"color: #00af00; text-decoration-color: #00af00\">0</span> │\n",
              "├─────────────────────────────────┼────────────────────────┼───────────────┤\n",
              "│ dense (<span style=\"color: #0087ff; text-decoration-color: #0087ff\">Dense</span>)                   │ (<span style=\"color: #00d7ff; text-decoration-color: #00d7ff\">None</span>, <span style=\"color: #00af00; text-decoration-color: #00af00\">16</span>)             │            <span style=\"color: #00af00; text-decoration-color: #00af00\">64</span> │\n",
              "├─────────────────────────────────┼────────────────────────┼───────────────┤\n",
              "│ dense_1 (<span style=\"color: #0087ff; text-decoration-color: #0087ff\">Dense</span>)                 │ (<span style=\"color: #00d7ff; text-decoration-color: #00d7ff\">None</span>, <span style=\"color: #00af00; text-decoration-color: #00af00\">8</span>)              │           <span style=\"color: #00af00; text-decoration-color: #00af00\">136</span> │\n",
              "├─────────────────────────────────┼────────────────────────┼───────────────┤\n",
              "│ dense_2 (<span style=\"color: #0087ff; text-decoration-color: #0087ff\">Dense</span>)                 │ (<span style=\"color: #00d7ff; text-decoration-color: #00d7ff\">None</span>, <span style=\"color: #00af00; text-decoration-color: #00af00\">2</span>)              │            <span style=\"color: #00af00; text-decoration-color: #00af00\">18</span> │\n",
              "├─────────────────────────────────┼────────────────────────┼───────────────┤\n",
              "│ dense_3 (<span style=\"color: #0087ff; text-decoration-color: #0087ff\">Dense</span>)                 │ (<span style=\"color: #00d7ff; text-decoration-color: #00d7ff\">None</span>, <span style=\"color: #00af00; text-decoration-color: #00af00\">8</span>)              │            <span style=\"color: #00af00; text-decoration-color: #00af00\">24</span> │\n",
              "├─────────────────────────────────┼────────────────────────┼───────────────┤\n",
              "│ dense_4 (<span style=\"color: #0087ff; text-decoration-color: #0087ff\">Dense</span>)                 │ (<span style=\"color: #00d7ff; text-decoration-color: #00d7ff\">None</span>, <span style=\"color: #00af00; text-decoration-color: #00af00\">16</span>)             │           <span style=\"color: #00af00; text-decoration-color: #00af00\">144</span> │\n",
              "├─────────────────────────────────┼────────────────────────┼───────────────┤\n",
              "│ dense_5 (<span style=\"color: #0087ff; text-decoration-color: #0087ff\">Dense</span>)                 │ (<span style=\"color: #00d7ff; text-decoration-color: #00d7ff\">None</span>, <span style=\"color: #00af00; text-decoration-color: #00af00\">3</span>)              │            <span style=\"color: #00af00; text-decoration-color: #00af00\">51</span> │\n",
              "└─────────────────────────────────┴────────────────────────┴───────────────┘\n",
              "</pre>\n"
            ]
          },
          "metadata": {}
        },
        {
          "output_type": "display_data",
          "data": {
            "text/plain": [
              "\u001b[1m Total params: \u001b[0m\u001b[38;5;34m437\u001b[0m (1.71 KB)\n"
            ],
            "text/html": [
              "<pre style=\"white-space:pre;overflow-x:auto;line-height:normal;font-family:Menlo,'DejaVu Sans Mono',consolas,'Courier New',monospace\"><span style=\"font-weight: bold\"> Total params: </span><span style=\"color: #00af00; text-decoration-color: #00af00\">437</span> (1.71 KB)\n",
              "</pre>\n"
            ]
          },
          "metadata": {}
        },
        {
          "output_type": "display_data",
          "data": {
            "text/plain": [
              "\u001b[1m Trainable params: \u001b[0m\u001b[38;5;34m437\u001b[0m (1.71 KB)\n"
            ],
            "text/html": [
              "<pre style=\"white-space:pre;overflow-x:auto;line-height:normal;font-family:Menlo,'DejaVu Sans Mono',consolas,'Courier New',monospace\"><span style=\"font-weight: bold\"> Trainable params: </span><span style=\"color: #00af00; text-decoration-color: #00af00\">437</span> (1.71 KB)\n",
              "</pre>\n"
            ]
          },
          "metadata": {}
        },
        {
          "output_type": "display_data",
          "data": {
            "text/plain": [
              "\u001b[1m Non-trainable params: \u001b[0m\u001b[38;5;34m0\u001b[0m (0.00 B)\n"
            ],
            "text/html": [
              "<pre style=\"white-space:pre;overflow-x:auto;line-height:normal;font-family:Menlo,'DejaVu Sans Mono',consolas,'Courier New',monospace\"><span style=\"font-weight: bold\"> Non-trainable params: </span><span style=\"color: #00af00; text-decoration-color: #00af00\">0</span> (0.00 B)\n",
              "</pre>\n"
            ]
          },
          "metadata": {}
        },
        {
          "output_type": "stream",
          "name": "stdout",
          "text": [
            "\n",
            "--- Part 1 Complete. You are now ready for training. ---\n",
            "RECOMMENDATION: If not already, switch to a GPU runtime for the next code block.\n"
          ]
        }
      ]
    },
    {
      "cell_type": "code",
      "source": [
        "\n",
        "from sklearn.cluster import KMeans\n",
        "from sklearn.metrics import silhouette_score\n",
        "import matplotlib.pyplot as plt\n",
        "import seaborn as sns\n",
        "\n",
        "print(\"\\n--- Starting Phase 3.2 (Part 2): Training and Analysis ---\")\n",
        "# Check if a GPU is available\n",
        "gpu_devices = tf.config.list_physical_devices('GPU')\n",
        "if gpu_devices:\n",
        "    print(f\"GPU detected: {gpu_devices[0].name}. Training will be accelerated.\")\n",
        "else:\n",
        "    print(\"No GPU detected. Training will run on CPU and may be slower.\")\n",
        "\n",
        "# --- Step 3: Train the Autoencoder ---\n",
        "print(\"\\nTraining the autoencoder to learn customer embeddings...\")\n",
        "history = autoencoder.fit(rfm_scaled, rfm_scaled,\n",
        "                          epochs=50,\n",
        "                          batch_size=16,\n",
        "                          shuffle=True,\n",
        "                          validation_split=0.1,\n",
        "                          verbose=1) # Set verbose=1 to see training progress\n",
        "print(\"Training complete.\")\n",
        "\n",
        "\n",
        "# --- Step 4: Extract Embeddings and Cluster ---\n",
        "print(\"\\nExtracting learned embeddings using the encoder...\")\n",
        "customer_embeddings = encoder_model.predict(rfm_scaled)\n",
        "print(f\"Embeddings generated. Shape: {customer_embeddings.shape}\")\n",
        "\n",
        "# Run K-Means on the new embeddings\n",
        "kmeans_on_embeddings = KMeans(n_clusters=3, random_state=42, n_init=10)\n",
        "embedding_clusters = kmeans_on_embeddings.fit_predict(customer_embeddings)\n",
        "\n",
        "# Add the new cluster labels to our RFM dataframe for comparison\n",
        "rfm_customer_data['autoencoder_cluster'] = embedding_clusters\n",
        "\n",
        "\n",
        "# --- Step 5: Compare and Analyze ---\n",
        "# Calculate Silhouette Scores for both clustering methods\n",
        "original_kmeans_score = silhouette_score(rfm_scaled, rfm_customer_data['cluster_label'])\n",
        "autoencoder_kmeans_score = silhouette_score(customer_embeddings, rfm_customer_data['autoencoder_cluster'])\n",
        "\n",
        "print(\"\\n--- Clustering Performance Comparison ---\")\n",
        "print(f\"Original K-Means on RFM Features Silhouette Score: {original_kmeans_score:.4f}\")\n",
        "print(f\"K-Means on Autoencoder Embeddings Silhouette Score: {autoencoder_kmeans_score:.4f}\")\n",
        "\n",
        "# Visualize the two clustering results\n",
        "fig, (ax1, ax2) = plt.subplots(1, 2, figsize=(18, 7))\n",
        "\n",
        "sns.scatterplot(x=customer_embeddings[:, 0], y=customer_embeddings[:, 1], hue=rfm_customer_data['autoencoder_cluster'], palette='viridis', ax=ax1, s=50, alpha=0.7)\n",
        "ax1.set_title('Clusters on 2D Autoencoder Embeddings')\n",
        "ax1.set_xlabel('Embedding Dimension 1')\n",
        "ax1.set_ylabel('Embedding Dimension 2')\n",
        "\n",
        "sns.scatterplot(x=customer_embeddings[:, 0], y=customer_embeddings[:, 1], hue=rfm_customer_data['cluster_label'], palette='viridis', ax=ax2, s=50, alpha=0.7)\n",
        "ax2.set_title('Original K-Means Clusters (Visualized on Embeddings)')\n",
        "ax2.set_xlabel('Embedding Dimension 1')\n",
        "ax2.set_ylabel('Embedding Dimension 2')\n",
        "\n",
        "plt.suptitle('Comparison of Clustering Methods', fontsize=16)\n",
        "plt.show()\n",
        "\n",
        "print(\"--- Phase 3.2 Complete ---\")"
      ],
      "metadata": {
        "colab": {
          "base_uri": "https://localhost:8080/",
          "height": 1000
        },
        "id": "ZzHUMI1sJBMX",
        "outputId": "7aca0abf-38ec-45f2-f14b-aa31be393c58"
      },
      "execution_count": null,
      "outputs": [
        {
          "output_type": "stream",
          "name": "stdout",
          "text": [
            "\n",
            "--- Starting Phase 3.2 (Part 2): Training and Analysis ---\n",
            "No GPU detected. Training will run on CPU and may be slower.\n",
            "\n",
            "Training the autoencoder to learn customer embeddings...\n",
            "Epoch 1/50\n",
            "\u001b[1m45/45\u001b[0m \u001b[32m━━━━━━━━━━━━━━━━━━━━\u001b[0m\u001b[37m\u001b[0m \u001b[1m8s\u001b[0m 47ms/step - loss: 1.2437 - val_loss: 1.1447\n",
            "Epoch 2/50\n",
            "\u001b[1m45/45\u001b[0m \u001b[32m━━━━━━━━━━━━━━━━━━━━\u001b[0m\u001b[37m\u001b[0m \u001b[1m1s\u001b[0m 21ms/step - loss: 1.2609 - val_loss: 1.1068\n",
            "Epoch 3/50\n",
            "\u001b[1m45/45\u001b[0m \u001b[32m━━━━━━━━━━━━━━━━━━━━\u001b[0m\u001b[37m\u001b[0m \u001b[1m1s\u001b[0m 21ms/step - loss: 1.1309 - val_loss: 0.9649\n",
            "Epoch 4/50\n",
            "\u001b[1m45/45\u001b[0m \u001b[32m━━━━━━━━━━━━━━━━━━━━\u001b[0m\u001b[37m\u001b[0m \u001b[1m1s\u001b[0m 10ms/step - loss: 1.0449 - val_loss: 0.8139\n",
            "Epoch 5/50\n",
            "\u001b[1m45/45\u001b[0m \u001b[32m━━━━━━━━━━━━━━━━━━━━\u001b[0m\u001b[37m\u001b[0m \u001b[1m0s\u001b[0m 4ms/step - loss: 0.9530 - val_loss: 0.7767\n",
            "Epoch 6/50\n",
            "\u001b[1m45/45\u001b[0m \u001b[32m━━━━━━━━━━━━━━━━━━━━\u001b[0m\u001b[37m\u001b[0m \u001b[1m0s\u001b[0m 4ms/step - loss: 0.9033 - val_loss: 0.7656\n",
            "Epoch 7/50\n",
            "\u001b[1m45/45\u001b[0m \u001b[32m━━━━━━━━━━━━━━━━━━━━\u001b[0m\u001b[37m\u001b[0m \u001b[1m0s\u001b[0m 4ms/step - loss: 0.8538 - val_loss: 0.7587\n",
            "Epoch 8/50\n",
            "\u001b[1m45/45\u001b[0m \u001b[32m━━━━━━━━━━━━━━━━━━━━\u001b[0m\u001b[37m\u001b[0m \u001b[1m0s\u001b[0m 4ms/step - loss: 0.8666 - val_loss: 0.7532\n",
            "Epoch 9/50\n",
            "\u001b[1m45/45\u001b[0m \u001b[32m━━━━━━━━━━━━━━━━━━━━\u001b[0m\u001b[37m\u001b[0m \u001b[1m0s\u001b[0m 4ms/step - loss: 0.9234 - val_loss: 0.7494\n",
            "Epoch 10/50\n",
            "\u001b[1m45/45\u001b[0m \u001b[32m━━━━━━━━━━━━━━━━━━━━\u001b[0m\u001b[37m\u001b[0m \u001b[1m0s\u001b[0m 4ms/step - loss: 0.9119 - val_loss: 0.7456\n",
            "Epoch 11/50\n",
            "\u001b[1m45/45\u001b[0m \u001b[32m━━━━━━━━━━━━━━━━━━━━\u001b[0m\u001b[37m\u001b[0m \u001b[1m0s\u001b[0m 4ms/step - loss: 0.8530 - val_loss: 0.7423\n",
            "Epoch 12/50\n",
            "\u001b[1m45/45\u001b[0m \u001b[32m━━━━━━━━━━━━━━━━━━━━\u001b[0m\u001b[37m\u001b[0m \u001b[1m0s\u001b[0m 4ms/step - loss: 0.8935 - val_loss: 0.7395\n",
            "Epoch 13/50\n",
            "\u001b[1m45/45\u001b[0m \u001b[32m━━━━━━━━━━━━━━━━━━━━\u001b[0m\u001b[37m\u001b[0m \u001b[1m0s\u001b[0m 5ms/step - loss: 0.8622 - val_loss: 0.7373\n",
            "Epoch 14/50\n",
            "\u001b[1m45/45\u001b[0m \u001b[32m━━━━━━━━━━━━━━━━━━━━\u001b[0m\u001b[37m\u001b[0m \u001b[1m0s\u001b[0m 4ms/step - loss: 0.9401 - val_loss: 0.7344\n",
            "Epoch 15/50\n",
            "\u001b[1m45/45\u001b[0m \u001b[32m━━━━━━━━━━━━━━━━━━━━\u001b[0m\u001b[37m\u001b[0m \u001b[1m0s\u001b[0m 4ms/step - loss: 0.9053 - val_loss: 0.7307\n",
            "Epoch 16/50\n",
            "\u001b[1m45/45\u001b[0m \u001b[32m━━━━━━━━━━━━━━━━━━━━\u001b[0m\u001b[37m\u001b[0m \u001b[1m0s\u001b[0m 4ms/step - loss: 0.8431 - val_loss: 0.7269\n",
            "Epoch 17/50\n",
            "\u001b[1m45/45\u001b[0m \u001b[32m━━━━━━━━━━━━━━━━━━━━\u001b[0m\u001b[37m\u001b[0m \u001b[1m0s\u001b[0m 4ms/step - loss: 0.8185 - val_loss: 0.7309\n",
            "Epoch 18/50\n",
            "\u001b[1m45/45\u001b[0m \u001b[32m━━━━━━━━━━━━━━━━━━━━\u001b[0m\u001b[37m\u001b[0m \u001b[1m0s\u001b[0m 6ms/step - loss: 0.8773 - val_loss: 0.7252\n",
            "Epoch 19/50\n",
            "\u001b[1m45/45\u001b[0m \u001b[32m━━━━━━━━━━━━━━━━━━━━\u001b[0m\u001b[37m\u001b[0m \u001b[1m0s\u001b[0m 5ms/step - loss: 0.8635 - val_loss: 0.7188\n",
            "Epoch 20/50\n",
            "\u001b[1m45/45\u001b[0m \u001b[32m━━━━━━━━━━━━━━━━━━━━\u001b[0m\u001b[37m\u001b[0m \u001b[1m0s\u001b[0m 4ms/step - loss: 0.8517 - val_loss: 0.7134\n",
            "Epoch 21/50\n",
            "\u001b[1m45/45\u001b[0m \u001b[32m━━━━━━━━━━━━━━━━━━━━\u001b[0m\u001b[37m\u001b[0m \u001b[1m0s\u001b[0m 4ms/step - loss: 0.7624 - val_loss: 0.7088\n",
            "Epoch 22/50\n",
            "\u001b[1m45/45\u001b[0m \u001b[32m━━━━━━━━━━━━━━━━━━━━\u001b[0m\u001b[37m\u001b[0m \u001b[1m0s\u001b[0m 5ms/step - loss: 0.8146 - val_loss: 0.7038\n",
            "Epoch 23/50\n",
            "\u001b[1m45/45\u001b[0m \u001b[32m━━━━━━━━━━━━━━━━━━━━\u001b[0m\u001b[37m\u001b[0m \u001b[1m0s\u001b[0m 4ms/step - loss: 0.7826 - val_loss: 0.6973\n",
            "Epoch 24/50\n",
            "\u001b[1m45/45\u001b[0m \u001b[32m━━━━━━━━━━━━━━━━━━━━\u001b[0m\u001b[37m\u001b[0m \u001b[1m0s\u001b[0m 4ms/step - loss: 0.7973 - val_loss: 0.6911\n",
            "Epoch 25/50\n",
            "\u001b[1m45/45\u001b[0m \u001b[32m━━━━━━━━━━━━━━━━━━━━\u001b[0m\u001b[37m\u001b[0m \u001b[1m0s\u001b[0m 4ms/step - loss: 0.7728 - val_loss: 0.6897\n",
            "Epoch 26/50\n",
            "\u001b[1m45/45\u001b[0m \u001b[32m━━━━━━━━━━━━━━━━━━━━\u001b[0m\u001b[37m\u001b[0m \u001b[1m0s\u001b[0m 4ms/step - loss: 0.8229 - val_loss: 0.6825\n",
            "Epoch 27/50\n",
            "\u001b[1m45/45\u001b[0m \u001b[32m━━━━━━━━━━━━━━━━━━━━\u001b[0m\u001b[37m\u001b[0m \u001b[1m0s\u001b[0m 4ms/step - loss: 0.7947 - val_loss: 0.6810\n",
            "Epoch 28/50\n",
            "\u001b[1m45/45\u001b[0m \u001b[32m━━━━━━━━━━━━━━━━━━━━\u001b[0m\u001b[37m\u001b[0m \u001b[1m0s\u001b[0m 4ms/step - loss: 0.7497 - val_loss: 0.6768\n",
            "Epoch 29/50\n",
            "\u001b[1m45/45\u001b[0m \u001b[32m━━━━━━━━━━━━━━━━━━━━\u001b[0m\u001b[37m\u001b[0m \u001b[1m0s\u001b[0m 4ms/step - loss: 0.7756 - val_loss: 0.6739\n",
            "Epoch 30/50\n",
            "\u001b[1m45/45\u001b[0m \u001b[32m━━━━━━━━━━━━━━━━━━━━\u001b[0m\u001b[37m\u001b[0m \u001b[1m0s\u001b[0m 4ms/step - loss: 0.7401 - val_loss: 0.6703\n",
            "Epoch 31/50\n",
            "\u001b[1m45/45\u001b[0m \u001b[32m━━━━━━━━━━━━━━━━━━━━\u001b[0m\u001b[37m\u001b[0m \u001b[1m0s\u001b[0m 4ms/step - loss: 0.7200 - val_loss: 0.6669\n",
            "Epoch 32/50\n",
            "\u001b[1m45/45\u001b[0m \u001b[32m━━━━━━━━━━━━━━━━━━━━\u001b[0m\u001b[37m\u001b[0m \u001b[1m0s\u001b[0m 4ms/step - loss: 0.7828 - val_loss: 0.6673\n",
            "Epoch 33/50\n",
            "\u001b[1m45/45\u001b[0m \u001b[32m━━━━━━━━━━━━━━━━━━━━\u001b[0m\u001b[37m\u001b[0m \u001b[1m0s\u001b[0m 4ms/step - loss: 0.7518 - val_loss: 0.6653\n",
            "Epoch 34/50\n",
            "\u001b[1m45/45\u001b[0m \u001b[32m━━━━━━━━━━━━━━━━━━━━\u001b[0m\u001b[37m\u001b[0m \u001b[1m0s\u001b[0m 5ms/step - loss: 0.7335 - val_loss: 0.6614\n",
            "Epoch 35/50\n",
            "\u001b[1m45/45\u001b[0m \u001b[32m━━━━━━━━━━━━━━━━━━━━\u001b[0m\u001b[37m\u001b[0m \u001b[1m0s\u001b[0m 6ms/step - loss: 0.7212 - val_loss: 0.6629\n",
            "Epoch 36/50\n",
            "\u001b[1m45/45\u001b[0m \u001b[32m━━━━━━━━━━━━━━━━━━━━\u001b[0m\u001b[37m\u001b[0m \u001b[1m0s\u001b[0m 6ms/step - loss: 0.7519 - val_loss: 0.6620\n",
            "Epoch 37/50\n",
            "\u001b[1m45/45\u001b[0m \u001b[32m━━━━━━━━━━━━━━━━━━━━\u001b[0m\u001b[37m\u001b[0m \u001b[1m1s\u001b[0m 7ms/step - loss: 0.7752 - val_loss: 0.6588\n",
            "Epoch 38/50\n",
            "\u001b[1m45/45\u001b[0m \u001b[32m━━━━━━━━━━━━━━━━━━━━\u001b[0m\u001b[37m\u001b[0m \u001b[1m0s\u001b[0m 7ms/step - loss: 0.7235 - val_loss: 0.6562\n",
            "Epoch 39/50\n",
            "\u001b[1m45/45\u001b[0m \u001b[32m━━━━━━━━━━━━━━━━━━━━\u001b[0m\u001b[37m\u001b[0m \u001b[1m0s\u001b[0m 7ms/step - loss: 0.7679 - val_loss: 0.6565\n",
            "Epoch 40/50\n",
            "\u001b[1m45/45\u001b[0m \u001b[32m━━━━━━━━━━━━━━━━━━━━\u001b[0m\u001b[37m\u001b[0m \u001b[1m1s\u001b[0m 6ms/step - loss: 0.7135 - val_loss: 0.6530\n",
            "Epoch 41/50\n",
            "\u001b[1m45/45\u001b[0m \u001b[32m━━━━━━━━━━━━━━━━━━━━\u001b[0m\u001b[37m\u001b[0m \u001b[1m0s\u001b[0m 7ms/step - loss: 0.6885 - val_loss: 0.6510\n",
            "Epoch 42/50\n",
            "\u001b[1m45/45\u001b[0m \u001b[32m━━━━━━━━━━━━━━━━━━━━\u001b[0m\u001b[37m\u001b[0m \u001b[1m1s\u001b[0m 4ms/step - loss: 0.7329 - val_loss: 0.6507\n",
            "Epoch 43/50\n",
            "\u001b[1m45/45\u001b[0m \u001b[32m━━━━━━━━━━━━━━━━━━━━\u001b[0m\u001b[37m\u001b[0m \u001b[1m0s\u001b[0m 4ms/step - loss: 0.7523 - val_loss: 0.6494\n",
            "Epoch 44/50\n",
            "\u001b[1m45/45\u001b[0m \u001b[32m━━━━━━━━━━━━━━━━━━━━\u001b[0m\u001b[37m\u001b[0m \u001b[1m0s\u001b[0m 4ms/step - loss: 0.7755 - val_loss: 0.6488\n",
            "Epoch 45/50\n",
            "\u001b[1m45/45\u001b[0m \u001b[32m━━━━━━━━━━━━━━━━━━━━\u001b[0m\u001b[37m\u001b[0m \u001b[1m0s\u001b[0m 4ms/step - loss: 0.6949 - val_loss: 0.6476\n",
            "Epoch 46/50\n",
            "\u001b[1m45/45\u001b[0m \u001b[32m━━━━━━━━━━━━━━━━━━━━\u001b[0m\u001b[37m\u001b[0m \u001b[1m0s\u001b[0m 4ms/step - loss: 0.8189 - val_loss: 0.6467\n",
            "Epoch 47/50\n",
            "\u001b[1m45/45\u001b[0m \u001b[32m━━━━━━━━━━━━━━━━━━━━\u001b[0m\u001b[37m\u001b[0m \u001b[1m0s\u001b[0m 4ms/step - loss: 0.7559 - val_loss: 0.6465\n",
            "Epoch 48/50\n",
            "\u001b[1m45/45\u001b[0m \u001b[32m━━━━━━━━━━━━━━━━━━━━\u001b[0m\u001b[37m\u001b[0m \u001b[1m0s\u001b[0m 5ms/step - loss: 0.7553 - val_loss: 0.6457\n",
            "Epoch 49/50\n",
            "\u001b[1m45/45\u001b[0m \u001b[32m━━━━━━━━━━━━━━━━━━━━\u001b[0m\u001b[37m\u001b[0m \u001b[1m0s\u001b[0m 4ms/step - loss: 0.7044 - val_loss: 0.6432\n",
            "Epoch 50/50\n",
            "\u001b[1m45/45\u001b[0m \u001b[32m━━━━━━━━━━━━━━━━━━━━\u001b[0m\u001b[37m\u001b[0m \u001b[1m0s\u001b[0m 4ms/step - loss: 0.7280 - val_loss: 0.6431\n",
            "Training complete.\n",
            "\n",
            "Extracting learned embeddings using the encoder...\n",
            "\u001b[1m25/25\u001b[0m \u001b[32m━━━━━━━━━━━━━━━━━━━━\u001b[0m\u001b[37m\u001b[0m \u001b[1m0s\u001b[0m 3ms/step\n",
            "Embeddings generated. Shape: (789, 2)\n",
            "\n",
            "--- Clustering Performance Comparison ---\n",
            "Original K-Means on RFM Features Silhouette Score: 0.3732\n",
            "K-Means on Autoencoder Embeddings Silhouette Score: 0.6235\n"
          ]
        },
        {
          "output_type": "display_data",
          "data": {
            "text/plain": [
              "<Figure size 1800x700 with 2 Axes>"
            ],
            "image/png": "[encoded data removed]"
          },
          "metadata": {}
        },
        {
          "output_type": "stream",
          "name": "stdout",
          "text": [
            "--- Phase 3.2 Complete ---\n"
          ]
        }
      ]
    },
    {
      "cell_type": "code",
      "source": [
        "\n",
        "if autoencoder_kmeans_score > original_kmeans_score:\n",
        "    print(\"\\nAutoencoder clustering is superior. Saving model artifacts.\")\n",
        "\n",
        "    # ARCHITECTURAL FIX: Use the recommended .keras extension for saving the model.\n",
        "    encoder_model_filename = 'customer_encoder_model.keras'\n",
        "    encoder_model.save(encoder_model_filename)\n",
        "    print(f\"Encoder model saved successfully to: '{encoder_model_filename}'\")\n",
        "\n",
        "    # Save the K-Means model trained on the embeddings (joblib format)\n",
        "    kmeans_embeddings_filename = 'kmeans_on_embeddings.joblib'\n",
        "    joblib.dump(kmeans_on_embeddings, kmeans_embeddings_filename)\n",
        "    print(f\"K-Means (on embeddings) model saved to: '{kmeans_embeddings_filename}'\")\n",
        "\n",
        "else:\n",
        "    print(\"\\nOriginal K-Means clustering is superior or equal. No new models will be saved.\")"
      ],
      "metadata": {
        "colab": {
          "base_uri": "https://localhost:8080/"
        },
        "id": "EYd8dk-cJOty",
        "outputId": "926791fe-de3f-4b03-948a-01e62ef0086a"
      },
      "execution_count": null,
      "outputs": [
        {
          "output_type": "stream",
          "name": "stdout",
          "text": [
            "\n",
            "Autoencoder clustering is superior. Saving model artifacts.\n",
            "Encoder model saved successfully to: 'customer_encoder_model.keras'\n",
            "K-Means (on embeddings) model saved to: 'kmeans_on_embeddings.joblib'\n"
          ]
        }
      ]
    },
    {
      "cell_type": "code",
      "source": [
        "\n",
        "\n",
        "import pandas as pd\n",
        "import seaborn as sns\n",
        "import matplotlib.pyplot as plt\n",
        "\n",
        "print(\"--- Starting: Profiling the Autoencoder-based Customer Segments ---\")\n",
        "\n",
        "# --- Step 1: Profile the New Clusters ---\n",
        "# Group by the 'autoencoder_cluster' label and calculate the mean RFM values.\n",
        "autoencoder_profiles = rfm_customer_data.groupby('autoencoder_cluster').agg({\n",
        "    'Recency': ['mean', 'count'],\n",
        "    'Frequency': 'mean',\n",
        "    'MonetaryValue': 'mean'\n",
        "}).round(1)\n",
        "\n",
        "# Clean up the column names for clarity\n",
        "autoencoder_profiles.columns = ['Recency_mean', 'Customer_Count', 'Frequency_mean', 'MonetaryValue_mean']\n",
        "autoencoder_profiles = autoencoder_profiles[['Recency_mean', 'Frequency_mean', 'MonetaryValue_mean', 'Customer_Count']]\n",
        "\n",
        "print(\"\\n--- Autoencoder Segment Profiles ---\")\n",
        "print(autoencoder_profiles.sort_values(by='MonetaryValue_mean', ascending=False))\n",
        "\n",
        "\n",
        "# --- Step 2: Compare with Original K-Means Profiles ---\n",
        "# Let's re-run the original K-Means profiling to have a side-by-side comparison.\n",
        "original_profiles = rfm_customer_data.groupby('cluster_label').agg({\n",
        "    'Recency': ['mean', 'count'],\n",
        "    'Frequency': 'mean',\n",
        "    'MonetaryValue': 'mean'\n",
        "}).round(1)\n",
        "original_profiles.columns = ['Recency_mean', 'Customer_Count', 'Frequency_mean', 'MonetaryValue_mean']\n",
        "original_profiles = original_profiles[['Recency_mean', 'Frequency_mean', 'MonetaryValue_mean', 'Customer_Count']]\n",
        "\n",
        "print(\"\\n--- For Reference: Original K-Means Segment Profiles ---\")\n",
        "print(original_profiles.sort_values(by='MonetaryValue_mean', ascending=False))"
      ],
      "metadata": {
        "colab": {
          "base_uri": "https://localhost:8080/"
        },
        "id": "N2He6SY1KhBC",
        "outputId": "58d03bee-5741-46d4-f602-e9b9c0909a33"
      },
      "execution_count": null,
      "outputs": [
        {
          "output_type": "stream",
          "name": "stdout",
          "text": [
            "--- Starting: Profiling the Autoencoder-based Customer Segments ---\n",
            "\n",
            "--- Autoencoder Segment Profiles ---\n",
            "                     Recency_mean  Frequency_mean  MonetaryValue_mean  \\\n",
            "autoencoder_cluster                                                     \n",
            "1                           110.6             8.0              5956.0   \n",
            "2                           150.2             5.2              3112.4   \n",
            "0                           257.4             3.1              1422.1   \n",
            "\n",
            "                     Customer_Count  \n",
            "autoencoder_cluster                  \n",
            "1                               332  \n",
            "2                               250  \n",
            "0                               207  \n",
            "\n",
            "--- For Reference: Original K-Means Segment Profiles ---\n",
            "               Recency_mean  Frequency_mean  MonetaryValue_mean  \\\n",
            "cluster_label                                                     \n",
            "1                      82.2             8.4              6814.0   \n",
            "2                      94.7             5.0              2585.1   \n",
            "0                     549.3             3.5              2306.1   \n",
            "\n",
            "               Customer_Count  \n",
            "cluster_label                  \n",
            "1                         247  \n",
            "2                         419  \n",
            "0                         123  \n"
          ]
        }
      ]
    },
    {
      "cell_type": "code",
      "source": [
        "\n",
        "import pandas as pd\n",
        "\n",
        "print(\"\\n--- Revising Segmentation on Embeddings using Quantiles ---\")\n",
        "\n",
        "\n",
        "embedding_df = pd.DataFrame(customer_embeddings, columns=['dim1', 'dim2'], index=rfm_customer_data.index)\n",
        "embedding_df['customer_score'] = embedding_df['dim1'] # Using dim1 as the learned score\n",
        "\n",
        "\n",
        "embedding_df['quantile_cluster'] = pd.qcut(embedding_df['customer_score'],\n",
        "                                           q=3,\n",
        "                                           labels=False, # Use integers 0, 1, 2\n",
        "                                           duplicates='drop') # Handle duplicate score values\n",
        "\n",
        "rfm_customer_data['autoencoder_quantile_cluster'] = embedding_df['quantile_cluster']\n",
        "\n",
        "quantile_profiles = rfm_customer_data.groupby('autoencoder_quantile_cluster').agg({\n",
        "    'Recency': ['mean', 'count'],\n",
        "    'Frequency': 'mean',\n",
        "    'MonetaryValue': 'mean'\n",
        "}).round(1)\n",
        "\n",
        "quantile_profiles.columns = ['Recency_mean', 'Customer_Count', 'Frequency_mean', 'MonetaryValue_mean']\n",
        "quantile_profiles = quantile_profiles[['Recency_mean', 'Frequency_mean', 'MonetaryValue_mean', 'Customer_Count']]\n",
        "\n",
        "print(\"\\n--- NEW Autoencoder + Quantile Segment Profiles ---\")\n",
        "sorted_profiles = quantile_profiles.sort_values(by='MonetaryValue_mean', ascending=False)\n",
        "persona_map = {\n",
        "    sorted_profiles.index[0]: \"🏆 Super Loyalists (Top 33%)\",\n",
        "    sorted_profiles.index[1]: \"💰 High Spenders (Middle 33%)\",\n",
        "    sorted_profiles.index[2]: \"😴 Dormant Customers (Bottom 33%)\"\n",
        "}\n",
        "sorted_profiles.index = sorted_profiles.index.map(persona_map)\n",
        "print(sorted_profiles)\n",
        "\n",
        "print(\"\\n--- Sanity Check Complete ---\")\n",
        "print(\"This quantile-based segmentation provides a much more balanced and intuitive distribution of customers.\")"
      ],
      "metadata": {
        "colab": {
          "base_uri": "https://localhost:8080/"
        },
        "id": "NexFZ4OlUGWq",
        "outputId": "6dc52a91-a99c-4ecb-be9d-556248b8f1f1"
      },
      "execution_count": null,
      "outputs": [
        {
          "output_type": "stream",
          "name": "stdout",
          "text": [
            "\n",
            "--- Revising Segmentation on Embeddings using Quantiles ---\n",
            "\n",
            "--- NEW Autoencoder + Quantile Segment Profiles ---\n",
            "                                  Recency_mean  Frequency_mean  \\\n",
            "autoencoder_quantile_cluster                                     \n",
            "🏆 Super Loyalists (Top 33%)              116.0             8.4   \n",
            "💰 High Spenders (Middle 33%)             134.1             5.8   \n",
            "😴 Dormant Customers (Bottom 33%)         234.8             3.4   \n",
            "\n",
            "                                  MonetaryValue_mean  Customer_Count  \n",
            "autoencoder_quantile_cluster                                          \n",
            "🏆 Super Loyalists (Top 33%)                   6585.2             263  \n",
            "💰 High Spenders (Middle 33%)                  3334.4             263  \n",
            "😴 Dormant Customers (Bottom 33%)              1676.9             263  \n",
            "\n",
            "--- Sanity Check Complete ---\n",
            "This quantile-based segmentation provides a much more balanced and intuitive distribution of customers.\n"
          ]
        }
      ]
    },
    {
      "cell_type": "markdown",
      "source": [
        "*   **Autoencoder Cluster 1: 🏆 The Super Loyalists**\n",
        "    *   **Profile:** (`Recency`: 111, `Frequency`: 8.0, `Monetary`: $5,956)\n",
        "    *   **Interpretation:** This is our high-value group. What's fascinating is that their defining characteristic is **extreme frequency** (8.0 orders). Their monetary value is high, and their recency is good. They are the highly engaged, frequent buyers.\n",
        "\n",
        "*   **Autoencoder Cluster 2: 💰 The High Spenders**\n",
        "    *   **Profile:** (`Recency`: 150, `Frequency`: 5.2, `Monetary`: $3,112)\n",
        "    *   **Interpretation:** This group has a moderate frequency but a solid monetary value. They might not buy as often as the \"Super Loyalists,\" but when they do, they spend a decent amount. Their recency is slightly worse, suggesting they might be more sporadic, big-ticket shoppers.\n",
        "\n",
        "*   **Autoencoder Cluster 0: 😴 The Dormant Customers**\n",
        "    *   **Profile:** (`Recency`: 257, `Frequency`: 3.1, `Monetary`: $1,422)\n",
        "    *   **Interpretation:** This group has the worst recency and the lowest frequency and monetary value. They are clearly the least engaged and lowest value customers.\n",
        "\n",
        "### **The Key Strategic Difference**\n",
        "\n",
        "The original K-Means model created an \"At-Risk\" segment defined almost entirely by a massive recency gap (~550 days). The autoencoder, by contrast, has created a more nuanced and **forward-looking** segmentation:\n",
        "\n",
        "*   It has identified two distinct types of \"good\" customers: the **frequent shoppers** (Super Loyalists) and the **occasional big spenders** (High Spenders). This is a much more actionable insight for marketing than just a single \"Champion\" group.\n",
        "*   Its lowest-value segment (\"Dormant\") is defined by being poor across *all* metrics, not just an extreme outlier in one. This is a more holistic view of a low-value customer.\n",
        "\n",
        "The autoencoder has effectively split our old \"Champion\" and \"Active\" groups into new segments based on the *type* of their purchasing behavior (Frequency vs. Monetary), which is a much more sophisticated insight.\n",
        "\n",
        "### **Conclusion for our Advanced Module**\n",
        "\n",
        "We will formally adopt these new personas for our advanced analytics section. This provides the perfect \"A/B test\" for our final report and Streamlit app.\n",
        "\n",
        "**Narrative:**\n",
        "\n",
        "> \"Our baseline segmentation with K-Means on raw RFM features revealed three clear personas primarily distinguished by their activity level. However, our advanced deep learning approach using an Autoencoder discovered a more nuanced segmentation. Instead of grouping by general activity, it separated our high-value customers into two distinct strategic groups: the **'Super Loyalists'**, who drive value through high purchase frequency, and the **'High Spenders'**, who drive value through larger, less frequent orders. This superior, data-driven segmentation, validated by a 67% improvement in Silhouette Score, allows for much more targeted and effective marketing strategies.\"\n"
      ],
      "metadata": {
        "id": "d3-jMfOaRaeF"
      }
    },
    {
      "cell_type": "code",
      "source": [
        "\n",
        "rfm_customer_data.to_csv('rfm_customer_data.csv')"
      ],
      "metadata": {
        "id": "4q5KU6voQuPx"
      },
      "execution_count": null,
      "outputs": []
    },
    {
      "cell_type": "code",
      "source": [
        "# In your Google Colab notebook\n",
        "\n",
        "# Import the necessary libraries first\n",
        "import sklearn\n",
        "import xgboost\n",
        "import tensorflow\n",
        "import joblib\n",
        "import pandas\n",
        "\n",
        "# Now, print their versions\n",
        "print(f\"scikit-learn: {sklearn.__version__}\")\n",
        "print(f\"xgboost: {xgboost.__version__}\")\n",
        "print(f\"tensorflow: {tensorflow.__version__}\")\n",
        "print(f\"joblib: {joblib.__version__}\")\n",
        "print(f\"pandas: {pandas.__version__}\")"
      ],
      "metadata": {
        "colab": {
          "base_uri": "https://localhost:8080/"
        },
        "id": "lFvD7hZ_mwbP",
        "outputId": "e8a4eee8-b00b-4714-eece-7041c4a97d6f"
      },
      "execution_count": null,
      "outputs": [
        {
          "output_type": "stream",
          "name": "stdout",
          "text": [
            "scikit-learn: 1.6.1\n",
            "xgboost: 3.0.5\n",
            "tensorflow: 2.19.0\n",
            "joblib: 1.5.2\n",
            "pandas: 2.2.2\n"
          ]
        }
      ]
    },
    {
      "cell_type": "code",
      "source": [],
      "metadata": {
        "id": "wgsjcs6bn3Ax"
      },
      "execution_count": null,
      "outputs": []
    },
    {
      "cell_type": "markdown",
      "source": [
        "## Uncovering Customer Segments with Unsupervised Clustering\n",
        "\n",
        "My objective was to discover the **natural, data-driven customer segments** hidden within the transactional history.\n",
        "\n",
        "---\n",
        "\n",
        "## Methodology: RFM and $k$-Means\n",
        "\n",
        "I implemented a robust, multi-step pipeline using the industry-standard RFM (Recency, Frequency, Monetary) analysis combined with $k$-Means clustering.\n",
        "\n",
        "### 1. Data Foundation\n",
        "First, I engineered a core **RFM DataFrame** by calculating three essential metrics for every customer within the relevant period of 2014-2017:\n",
        "* **Recency (R):** Days since the customer's last purchase.\n",
        "* **Frequency (F):** Total count of unique orders.\n",
        "* **Monetary Value (M):** Total lifetime sales generated.\n",
        "\n",
        "### 2. Dual-Validation for Optimal Grouping\n",
        "To select the most statistically sound number of customer groups (the optimal $k$), I employed a dual-validation technique:\n",
        "* **Elbow Method:** This preliminary visual assessment suggested an ideal range of $k$ between 3 and 5.\n",
        "* **Silhouette Score:** This rigorous mathematical validation confirmed that the clustering quality **peaked unambiguously at $k=3$**. This indicated that three groups offered the best combination of tight cohesion within groups and clear separation between them.\n",
        "\n",
        "### 3. Production Deployment\n",
        "To ensure consistency and ease of use, I built a production-ready **scikit-learn pipeline**. This pipeline automatically handles two critical steps: normalizing the RFM features using a **StandardScaler** and then applying the **$k$-Means algorithm** (with $k=3$). The entire model was saved as a single, deployable artifact (`customer_segmentation_pipeline.joblib`).\n",
        "\n",
        "---\n",
        "\n",
        "## Results: The Three Core Customer Personas\n",
        "\n",
        "My analysis successfully identified three distinct and strategically actionable customer personas.\n",
        "\n",
        "| Persona | Cluster Profile (Mean Values) | Customer Count | Strategic Importance |\n",
        "| :--- | :--- | :--- | :--- |\n",
        "| **💎 Champions** | **R**: 82 days, **F**: 8.4 orders, **M**: 6,814USD | 247 Customers (31%) | Our high-value core. These are the most loyal and profitable customers, driving a disproportionate amount of revenue. |\n",
        "| **🌱 Active & Promising**| **R**: 95 days, **F**: 5.0 orders, **M**: 2,585USD | 419 Customers (53%) | The largest segment, representing the \"average\" active customer. They are the primary source of steady business and hold the greatest potential for growth. |\n",
        "| **⚠️ At-Risk / Lapsed** | **R**: 549 days, **F**: 3.5 orders, **M**: 2,306USD | 123 Customers (16%) | Customers who have not purchased in approximately 1.5 years. They represent a significant churn risk. |"
      ],
      "metadata": {
        "id": "54k5KpJ3YadZ"
      }
    },
    {
      "cell_type": "code",
      "source": [],
      "metadata": {
        "id": "ZynQGjxCPE6p"
      },
      "execution_count": null,
      "outputs": []
    },
    {
      "cell_type": "markdown",
      "source": [
        "# Classification (Deprecated due to poor results)\n",
        "\n",
        "Our goal is to answer the business question: *Can we predict the long-term value segment a new customer will belong to, based solely on the details of their very first purchase?*\n",
        "\n",
        "The Goal : Answering this question is a significant competitive advantage. It allows us to tailor a customer's journey from day one, proactively nurturing high-potential customers while efficiently managing those less likely to become highly engaged.\n",
        "\n",
        "This is a supervised, multi-class classification problem, as we have three clusters.\n",
        "\n",
        "* Our Features (X): The details of a customer's very first transaction. This includes what they bought (Category, Sub-Category), how much they spent (Sales Price), the discount they received, their location (Region), and their customer segment (Segment). These are all things we know the moment they complete their first checkout.\n",
        "\n",
        "\n",
        "* Our Target (y): The cluster_label (0: At-Risk, 1: Champion, 2: Active & Promising) that we just created. This label represents the customer's long-term value segment, which we want to predict upfront."
      ],
      "metadata": {
        "id": "hCtp5Kt-c91Z"
      }
    },
    {
      "cell_type": "code",
      "source": [
        "# Step 1 : Constructing the training dataset\n",
        "\n",
        "# isolate the first transaction of each customer\n",
        "\n",
        "cleaned_data['Order Date'] = pd.to_datetime(cleaned_data['Order Date'], format='%d/%m/%y', errors='coerce')\n",
        "first_orders = cleaned_data.sort_values('Order Date').drop_duplicates('Customer ID', keep='first')\n",
        "\n"
      ],
      "metadata": {
        "id": "P46nGKFTc_a_"
      },
      "execution_count": null,
      "outputs": []
    },
    {
      "cell_type": "code",
      "source": [
        "# The target variable (y) is the cluster_label from our RFM analysis.\n",
        "\n",
        "# We select the 'cluster_label' and the 'Customer ID' to merge.\n",
        "\n",
        "target_labels = rfm_customer_data[['cluster_label']]\n",
        "\n",
        "classifier_df = first_orders.merge(target_labels, on='Customer ID', how='inner')"
      ],
      "metadata": {
        "id": "rEErNs3IfMt3"
      },
      "execution_count": null,
      "outputs": []
    },
    {
      "cell_type": "code",
      "source": [
        "print(f\"Shape: {classifier_df.shape}\")\n",
        "\n",
        "print(classifier_df['cluster_label'].value_counts())"
      ],
      "metadata": {
        "colab": {
          "base_uri": "https://localhost:8080/"
        },
        "id": "gWDXhqcgfMeP",
        "outputId": "66d0eb1e-e3a3-45e1-ced3-6889f0b32f89"
      },
      "execution_count": null,
      "outputs": [
        {
          "output_type": "stream",
          "name": "stdout",
          "text": [
            "Shape: (789, 36)\n",
            "cluster_label\n",
            "2    419\n",
            "1    247\n",
            "0    123\n",
            "Name: count, dtype: int64\n"
          ]
        }
      ]
    },
    {
      "cell_type": "code",
      "source": [
        "# step 2: features that are known at the time of the first purchase\n",
        "\n",
        "features = [\n",
        "    'Segment', 'Region', 'Category', 'Sub-Category',\n",
        "    'Sales Price', 'Quantity', 'Discount', 'Profit'\n",
        "]\n",
        "target = 'cluster_label'\n",
        "\n",
        "X = classifier_df[features]\n",
        "y = classifier_df[target]"
      ],
      "metadata": {
        "id": "s9N7ZVFkfVZY"
      },
      "execution_count": null,
      "outputs": []
    },
    {
      "cell_type": "code",
      "source": [
        "# We use stratify=y to ensure the class distribution is the same in train and test sets,which is crucial for imbalanced datasets.\n",
        "X_train, X_test, y_train, y_test = train_test_split(X, y, test_size=0.2, random_state=42, stratify=y)\n",
        "print(f\"\\nData split into training ({X_train.shape[0]} rows) and testing ({X_test.shape[0]} rows) sets.\")\n"
      ],
      "metadata": {
        "colab": {
          "base_uri": "https://localhost:8080/"
        },
        "id": "IwLLQUtklnJl",
        "outputId": "287b3380-1815-49bb-a4a6-18a0aa682e81"
      },
      "execution_count": null,
      "outputs": [
        {
          "output_type": "stream",
          "name": "stdout",
          "text": [
            "\n",
            "Data split into training (631 rows) and testing (158 rows) sets.\n"
          ]
        }
      ]
    },
    {
      "cell_type": "code",
      "source": [
        "# Build the Preprocessing Pipeline\n",
        "# Use a ColumnTransformer to apply the correct transformation to each column type.\n",
        "numerical_features = ['Sales Price', 'Quantity', 'Discount', 'Profit']\n",
        "categorical_features = ['Segment', 'Region', 'Category', 'Sub-Category']\n",
        "\n",
        "preprocessor = ColumnTransformer(\n",
        "    transformers=[\n",
        "        ('num', StandardScaler(), numerical_features),\n",
        "        ('cat', OneHotEncoder(handle_unknown='ignore'), categorical_features)\n",
        "    ],\n",
        "    remainder='passthrough' # Keep other columns if any (none in our case)\n",
        ")"
      ],
      "metadata": {
        "id": "QpmASZdwl80w"
      },
      "execution_count": null,
      "outputs": []
    },
    {
      "cell_type": "code",
      "source": [
        "models = {\n",
        "    \"Logistic Regression\": LogisticRegression(random_state=42, max_iter=1000),\n",
        "    \"Random Forest\": RandomForestClassifier(random_state=42),\n",
        "    \"XGBoost\": XGBClassifier(random_state=42, use_label_encoder=False, eval_metric='mlogloss')\n",
        "}\n",
        "\n"
      ],
      "metadata": {
        "id": "h2OVfTefmPyD"
      },
      "execution_count": null,
      "outputs": []
    },
    {
      "cell_type": "code",
      "source": [
        "for name, model in models.items():\n",
        "\n",
        "    pipeline = make_pipeline(preprocessor, model)\n",
        "\n",
        "    # Train the pipeline\n",
        "    print(f\"\\n--- Training {name} ---\")\n",
        "    pipeline.fit(X_train, y_train)\n",
        "\n",
        "    # Evaluate on the test set\n",
        "    y_pred = pipeline.predict(X_test)\n",
        "    print(f\"\\nClassification Report for {name}:\")\n",
        "    print(classification_report(y_test, y_pred, target_names=['At-Risk', 'Champion', 'Active & Promising']))"
      ],
      "metadata": {
        "colab": {
          "base_uri": "https://localhost:8080/"
        },
        "id": "KB_r-BRpmXbH",
        "outputId": "a8cbb07d-42f5-47f5-c261-eeff302d027b"
      },
      "execution_count": null,
      "outputs": [
        {
          "output_type": "stream",
          "name": "stdout",
          "text": [
            "\n",
            "--- Training Logistic Regression ---\n",
            "\n",
            "Classification Report for Logistic Regression:\n",
            "                    precision    recall  f1-score   support\n",
            "\n",
            "           At-Risk       0.00      0.00      0.00        25\n",
            "          Champion       0.38      0.16      0.23        49\n",
            "Active & Promising       0.56      0.92      0.70        84\n",
            "\n",
            "          accuracy                           0.54       158\n",
            "         macro avg       0.31      0.36      0.31       158\n",
            "      weighted avg       0.42      0.54      0.44       158\n",
            "\n",
            "\n",
            "--- Training Random Forest ---\n",
            "\n",
            "Classification Report for Random Forest:\n",
            "                    precision    recall  f1-score   support\n",
            "\n",
            "           At-Risk       0.00      0.00      0.00        25\n",
            "          Champion       0.26      0.20      0.23        49\n",
            "Active & Promising       0.55      0.73      0.63        84\n",
            "\n",
            "          accuracy                           0.45       158\n",
            "         macro avg       0.27      0.31      0.28       158\n",
            "      weighted avg       0.37      0.45      0.40       158\n",
            "\n",
            "\n",
            "--- Training XGBoost ---\n",
            "\n",
            "Classification Report for XGBoost:\n",
            "                    precision    recall  f1-score   support\n",
            "\n",
            "           At-Risk       0.12      0.08      0.10        25\n",
            "          Champion       0.23      0.20      0.22        49\n",
            "Active & Promising       0.51      0.60      0.55        84\n",
            "\n",
            "          accuracy                           0.39       158\n",
            "         macro avg       0.29      0.29      0.29       158\n",
            "      weighted avg       0.36      0.39      0.37       158\n",
            "\n"
          ]
        }
      ]
    },
    {
      "cell_type": "code",
      "source": [
        "print(\"--- Starting Phase 2.3: Customer LTV (Profit) Prediction ---\")\n",
        "\n",
        "# --- Step 2.3.1: Construct the Training Dataset ---\n",
        "# Strategy: Use the first order as features and the customer's total profit as the target.\n",
        "\n",
        "# We already have the 'first_orders' DataFrame from the previous phase.\n",
        "# If not, it can be recreated:\n",
        "# cleaned_data['Order Date'] = pd.to_datetime(cleaned_data['Order Date'], format='%d/%m/%y', errors='coerce')\n",
        "# first_orders = cleaned_data.sort_values('Order Date').drop_duplicates('Customer ID', keep='first')\n",
        "\n",
        "# The target variable (y) is the customer's lifetime total profit.\n",
        "# We can calculate this by grouping the main 'cleaned_data' DataFrame.\n",
        "ltv_data = cleaned_data.groupby('Customer ID')['Total Profit'].sum().reset_index()\n",
        "ltv_data.rename(columns={'Total Profit': 'LTV_Profit'}, inplace=True)\n",
        "\n",
        "# Merge the features (first_orders) with the target (ltv_data).\n",
        "regression_df = first_orders.merge(ltv_data, on='Customer ID', how='inner')\n",
        "\n",
        "print(f\"Regression dataset created. Shape: {regression_df.shape}\")\n",
        "\n",
        "# --- Step 2.3.2: Define Features (X) and Target (y) ---\n",
        "# Features are known at the time of the first purchase.\n",
        "features = [\n",
        "    'Segment', 'Region', 'Category', 'Sub-Category',\n",
        "    'Sales Price', 'Quantity', 'Discount', 'Profit' # Profit from the FIRST order\n",
        "]\n",
        "target = 'LTV_Profit' # Total lifetime profit\n",
        "\n",
        "X = regression_df[features]\n",
        "y = regression_df[target]\n",
        "\n",
        "# --- Step 2.3.3: Split Data into Training and Testing Sets ---\n",
        "X_train, X_test, y_train, y_test = train_test_split(X, y, test_size=0.2, random_state=42)\n",
        "print(f\"\\nData split into training ({X_train.shape[0]} rows) and testing ({X_test.shape[0]} rows) sets.\")\n",
        "\n",
        "# --- Step 2.3.4: Build the Preprocessing Pipeline ---\n",
        "# This is the same preprocessor as before, a testament to modular design.\n",
        "numerical_features = ['Sales Price', 'Quantity', 'Discount', 'Profit']\n",
        "categorical_features = ['Segment', 'Region', 'Category', 'Sub-Category']\n",
        "\n",
        "preprocessor = ColumnTransformer(\n",
        "    transformers=[\n",
        "        ('num', StandardScaler(), numerical_features),\n",
        "        ('cat', OneHotEncoder(handle_unknown='ignore'), categorical_features)\n",
        "    ],\n",
        "    remainder='passthrough'\n",
        ")\n",
        "\n",
        "# --- Step 2.3.5: Train and Evaluate Multiple Models ---\n",
        "models = {\n",
        "    \"Linear Regression\": LinearRegression(),\n",
        "    \"Lasso Regression\": Lasso(random_state=42),\n",
        "    \"XGBoost Regressor\": XGBRegressor(random_state=42)\n",
        "}\n",
        "\n",
        "for name, model in models.items():\n",
        "    # Create the full pipeline\n",
        "    pipeline = make_pipeline(preprocessor, model)\n",
        "\n",
        "    # Train the pipeline\n",
        "    print(f\"\\n--- Training {name} ---\")\n",
        "    pipeline.fit(X_train, y_train)\n",
        "\n",
        "    # Evaluate on the test set\n",
        "    y_pred = pipeline.predict(X_test)\n",
        "\n",
        "    # Calculate metrics\n",
        "    r2 = r2_score(y_test, y_pred)\n",
        "    mae = mean_absolute_error(y_test, y_pred)\n",
        "    rmse = np.sqrt(mean_squared_error(y_test, y_pred))\n",
        "\n",
        "    print(f\"Evaluation Metrics for {name}:\")\n",
        "    print(f\"  R-squared (R²): {r2:.3f}\")\n",
        "    print(f\"  Mean Absolute Error (MAE): ${mae:.2f}\")\n",
        "    print(f\"  Root Mean Squared Error (RMSE): ${rmse:.2f}\")\n",
        "\n"
      ],
      "metadata": {
        "colab": {
          "base_uri": "https://localhost:8080/"
        },
        "id": "bblgyudcmchc",
        "outputId": "f8f53c6b-d119-40a6-ea8c-9977decfe3ca"
      },
      "execution_count": null,
      "outputs": [
        {
          "output_type": "stream",
          "name": "stdout",
          "text": [
            "--- Starting Phase 2.3: Customer LTV (Profit) Prediction ---\n",
            "Regression dataset created. Shape: (789, 36)\n",
            "\n",
            "Data split into training (631 rows) and testing (158 rows) sets.\n",
            "\n",
            "--- Training Linear Regression ---\n",
            "Evaluation Metrics for Linear Regression:\n",
            "  R-squared (R²): -0.008\n",
            "  Mean Absolute Error (MAE): $353.98\n",
            "  Root Mean Squared Error (RMSE): $441.27\n",
            "\n",
            "--- Training Lasso Regression ---\n",
            "Evaluation Metrics for Lasso Regression:\n",
            "  R-squared (R²): 0.010\n",
            "  Mean Absolute Error (MAE): $351.48\n",
            "  Root Mean Squared Error (RMSE): $437.34\n",
            "\n",
            "--- Training XGBoost Regressor ---\n",
            "Evaluation Metrics for XGBoost Regressor:\n",
            "  R-squared (R²): -0.314\n",
            "  Mean Absolute Error (MAE): $391.84\n",
            "  Root Mean Squared Error (RMSE): $503.74\n"
          ]
        }
      ]
    },
    {
      "cell_type": "markdown",
      "source": [
        "# Classification - Transactional Profitability Classifier"
      ],
      "metadata": {
        "id": "wnnh6ADx94B5"
      }
    },
    {
      "cell_type": "code",
      "source": [
        "\n",
        "\n",
        "# print(\"--- Starting Phase 3.1: Profitability Simulator ---\")\n",
        "# print(\"Pivoting from predictive LTV to prescriptive profit simulation.\")\n",
        "\n",
        "# # --- Step 1: Prepare the Dataset ---\n",
        "# # We use the full, cleaned transaction log. Each row is one transaction.\n",
        "# sim_df = cleaned_data.copy()\n",
        "# print(f\"Simulator dataset created. Shape: {sim_df.shape}\")\n",
        "\n",
        "# # --- Step 2: Define Features (X) and Target (y) ---\n",
        "# # Features are the \"levers\" a business manager can control or observe.\n",
        "# features = [\n",
        "#     'Segment', 'Region', 'Category', 'Sub-Category',\n",
        "#     'Sales Price', 'Quantity', 'Discount' # 'Discount' is our key input variable\n",
        "# ]\n",
        "# target = 'Total Profit'\n",
        "\n",
        "# X = sim_df[features]\n",
        "# y = sim_df[target]\n",
        "\n",
        "# # --- Step 3: Split Data for Training and Evaluation ---\n",
        "# X_train, X_test, y_train, y_test = train_test_split(X, y, test_size=0.2, random_state=42)\n",
        "# print(f\"\\nData split into training ({X_train.shape[0]} rows) and testing ({X_test.shape[0]} rows) sets.\")\n",
        "\n",
        "# # --- Step 4: Build the Preprocessing and Modeling Pipeline ---\n",
        "# numerical_features = ['Sales Price', 'Quantity', 'Discount']\n",
        "# categorical_features = ['Segment', 'Region', 'Category', 'Sub-Category']\n",
        "\n",
        "# preprocessor = ColumnTransformer(\n",
        "#     transformers=[\n",
        "#         ('num', StandardScaler(), numerical_features),\n",
        "#         ('cat', OneHotEncoder(handle_unknown='ignore'), categorical_features)\n",
        "#     ]\n",
        "# )\n",
        "\n",
        "# # Our final model will be an XGBoost Regressor pipeline.\n",
        "# pipeline = make_pipeline(\n",
        "#     preprocessor,\n",
        "#     XGBRegressor(random_state=42)\n",
        "# )\n",
        "\n",
        "# print(\"\\n--- Training Profit Simulator (XGBoost Regressor) ---\")\n",
        "# pipeline.fit(X_train, y_train)\n",
        "\n",
        "# # --- Step 5: Evaluate the Simulator's Performance ---\n",
        "# y_pred = pipeline.predict(X_test)\n",
        "# r2 = r2_score(y_test, y_pred)\n",
        "# mae = mean_absolute_error(y_test, y_pred)\n",
        "\n",
        "# print(\"\\nEvaluation Metrics for the Profit Simulator:\")\n",
        "# print(f\"  R-squared (R²): {r2:.3f}\")\n",
        "# print(f\"  Mean Absolute Error (MAE): ${mae:.2f}\")\n",
        "\n",
        "# # --- Step 6: Finalize and Save the Model ---\n",
        "# # We need a reasonably high R² to trust the simulator's outputs.\n",
        "# if r2 > 0.6:\n",
        "#     print(\"\\nModel performance is strong. Retraining on all data and saving.\")\n",
        "#     # We retrain on all data to create the final production artifact.\n",
        "#     final_pipeline = make_pipeline(preprocessor, XGBRegressor(random_state=42))\n",
        "#     final_pipeline.fit(X, y)\n",
        "\n",
        "#     simulator_filename = 'profit_simulator.joblib'\n",
        "#     joblib.dump(final_pipeline, simulator_filename)\n",
        "#     print(f\"\\nSUCCESS: Profit simulator pipeline saved to '{simulator_filename}'\")\n",
        "# else:\n",
        "#     print(f\"\\nModel performance (R²={r2:.3f}) is below the threshold of 0.6.\")\n",
        "#     print(\"The model will not be saved. Further feature engineering may be required.\")\n",
        "\n",
        "# print(\"--- Phase 3.1 Complete ---\")"
      ],
      "metadata": {
        "colab": {
          "base_uri": "https://localhost:8080/"
        },
        "id": "IgxAJFcaoo3V",
        "outputId": "b070529b-39f6-4542-b009-58c7fb008217"
      },
      "execution_count": null,
      "outputs": [
        {
          "output_type": "stream",
          "name": "stdout",
          "text": [
            "--- Starting Phase 3.1: Profitability Simulator ---\n",
            "Pivoting from predictive LTV to prescriptive profit simulation.\n",
            "Simulator dataset created. Shape: (8447, 35)\n",
            "\n",
            "Data split into training (6757 rows) and testing (1690 rows) sets.\n",
            "\n",
            "--- Training Profit Simulator (XGBoost Regressor) ---\n",
            "\n",
            "Evaluation Metrics for the Profit Simulator:\n",
            "  R-squared (R²): 0.833\n",
            "  Mean Absolute Error (MAE): $18.64\n",
            "\n",
            "Model performance is strong. Retraining on all data and saving.\n",
            "\n",
            "SUCCESS: Profit simulator pipeline saved to 'profit_simulator.joblib'\n",
            "--- Phase 3.1 Complete ---\n"
          ]
        }
      ]
    },
    {
      "cell_type": "code",
      "source": [
        "\n",
        "\n",
        "\n",
        "print(\"--- Starting Phase 2.2 (Revised): Profitability Classifier ---\")\n",
        "\n",
        "df = cleaned_data.copy()\n",
        "df['is_profitable'] = (df['Total Profit'] > 0).astype(int)\n",
        "\n",
        "print(f\"Classifier dataset created. Shape: {df.shape}\")\n",
        "print(\"Target distribution (Is Profitable?):\")\n",
        "print(df['is_profitable'].value_counts(normalize=True))\n",
        "\n",
        "features = [\n",
        "    'Segment', 'Region', 'Category', 'Sub-Category',\n",
        "    'Sales Price', 'Quantity', 'Discount'\n",
        "]\n",
        "target = 'is_profitable'\n",
        "\n",
        "X = df[features]\n",
        "y = df[target]\n",
        "\n",
        "X_train, X_test, y_train, y_test = train_test_split(X, y, test_size=0.2, random_state=42, stratify=y)\n",
        "print(f\"\\nData split into training ({X_train.shape[0]} rows) and testing ({X_test.shape[0]} rows) sets.\")\n",
        "\n",
        "numerical_features = ['Sales Price', 'Quantity', 'Discount']\n",
        "categorical_features = ['Segment', 'Region', 'Category', 'Sub-Category']\n",
        "\n",
        "preprocessor = ColumnTransformer(\n",
        "    transformers=[\n",
        "        ('num', StandardScaler(), numerical_features),\n",
        "        ('cat', OneHotEncoder(handle_unknown='ignore'), categorical_features)\n",
        "    ]\n",
        ")\n",
        "\n",
        "pipeline = make_pipeline(\n",
        "    preprocessor,\n",
        "    XGBClassifier(random_state=42, use_label_encoder=False, eval_metric='logloss')\n",
        ")\n",
        "\n",
        "print(\"\\n--- Training Profitability Classifier (XGBoost) ---\")\n",
        "pipeline.fit(X_train, y_train)\n",
        "\n",
        "y_pred = pipeline.predict(X_test)\n",
        "accuracy = accuracy_score(y_test, y_pred)\n",
        "\n",
        "print(f\"\\nModel Accuracy on Test Set: {accuracy:.3f}\")\n",
        "print(\"\\nClassification Report:\")\n",
        "print(classification_report(y_test, y_pred, target_names=['Not Profitable', 'Profitable']))\n",
        "\n",
        "if accuracy > 0.80: # Set a reasonable quality threshold\n",
        "    print(\"\\nModel performance is strong. Retraining on all data and saving.\")\n",
        "    final_pipeline = make_pipeline(preprocessor, XGBClassifier(random_state=42, use_label_encoder=False, eval_metric='logloss'))\n",
        "    final_pipeline.fit(X, y)\n",
        "\n",
        "    classifier_filename = 'profitability_classifier.joblib'\n",
        "    joblib.dump(final_pipeline, classifier_filename)\n",
        "    print(f\"\\nSUCCESS: Profitability classifier saved to '{classifier_filename}'\")\n",
        "else:\n",
        "    print(f\"\\nModel accuracy ({accuracy:.3f}) is below the threshold of 0.80. Model will not be saved.\")\n",
        "\n",
        "print(\"--- Phase 2.2 (Revised) Complete ---\")"
      ],
      "metadata": {
        "colab": {
          "base_uri": "https://localhost:8080/"
        },
        "id": "RtuDs5yPv6SD",
        "outputId": "82e85917-6a0d-44d0-ab85-d95557a07208"
      },
      "execution_count": null,
      "outputs": [
        {
          "output_type": "stream",
          "name": "stdout",
          "text": [
            "--- Starting Phase 2.2 (Revised): Profitability Classifier ---\n",
            "Classifier dataset created. Shape: (8447, 36)\n",
            "Target distribution (Is Profitable?):\n",
            "is_profitable\n",
            "1    0.827513\n",
            "0    0.172487\n",
            "Name: proportion, dtype: float64\n",
            "\n",
            "Data split into training (6757 rows) and testing (1690 rows) sets.\n",
            "\n",
            "--- Training Profitability Classifier (XGBoost) ---\n",
            "\n",
            "Model Accuracy on Test Set: 0.952\n",
            "\n",
            "Classification Report:\n",
            "                precision    recall  f1-score   support\n",
            "\n",
            "Not Profitable       0.90      0.82      0.86       292\n",
            "    Profitable       0.96      0.98      0.97      1398\n",
            "\n",
            "      accuracy                           0.95      1690\n",
            "     macro avg       0.93      0.90      0.91      1690\n",
            "  weighted avg       0.95      0.95      0.95      1690\n",
            "\n",
            "\n",
            "Model performance is strong. Retraining on all data and saving.\n",
            "\n",
            "SUCCESS: Profitability classifier saved to 'profitability_classifier.joblib'\n",
            "--- Phase 2.2 (Revised) Complete ---\n"
          ]
        }
      ]
    },
    {
      "cell_type": "code",
      "source": [
        "\n",
        "from sklearn.model_selection import cross_val_score\n",
        "\n",
        "print(\"--- Performing 5-Fold Cross-Validation to Validate Model Generalization ---\")\n",
        "\n",
        "\n",
        "cv_scores = cross_val_score(final_pipeline, X, y, cv=5, scoring='accuracy')\n",
        "\n",
        "\n",
        "print(f\"\\nAccuracy scores for each of the 5 folds: \\n{cv_scores}\")\n",
        "print(f\"\\nMean Accuracy: {np.mean(cv_scores):.4f}\")\n",
        "print(f\"Standard Deviation: {np.std(cv_scores):.4f}\")\n",
        "\n",
        "if np.std(cv_scores) < 0.05:\n",
        "    print(\"\\nCONCLUSION: The low standard deviation across folds provides strong evidence that the model's performance is stable and not due to a lucky split. The model generalizes well.\")\n",
        "else:\n",
        "    print(\"\\nWARNING: The high standard deviation across folds suggests the model's performance is unstable. Overfitting might be a concern.\")"
      ],
      "metadata": {
        "colab": {
          "base_uri": "https://localhost:8080/"
        },
        "id": "Pm1y3Wo70khE",
        "outputId": "c7bb71e2-fa5f-4c39-d26c-8f86ec7f069b"
      },
      "execution_count": null,
      "outputs": [
        {
          "output_type": "stream",
          "name": "stdout",
          "text": [
            "--- Performing 5-Fold Cross-Validation to Validate Model Generalization ---\n",
            "\n",
            "Accuracy scores for each of the 5 folds: \n",
            "[0.94260355 0.94556213 0.94434577 0.94256957 0.93783304]\n",
            "\n",
            "Mean Accuracy: 0.9426\n",
            "Standard Deviation: 0.0026\n",
            "\n",
            "CONCLUSION: The low standard deviation across folds provides strong evidence that the model's performance is stable and not due to a lucky split. The model generalizes well.\n"
          ]
        }
      ]
    },
    {
      "cell_type": "markdown",
      "source": [
        "# Regression : The Margin Forecaster\n",
        "\n",
        "Our business question is: What is the expected profit margin for a specific transaction? This is a supervised regression problem that adds a layer of nuance to our profitability analysis.\n",
        "\n",
        "Why Margin?\n",
        "\n",
        "Predicting profit margin (a ratio) is often more stable and insightful than predicting absolute profit (a dollar amount).\n",
        "\n",
        "A 10% margin on a 1,000 sale is more valuable than a 50% margin on a 10 sale. Margin contextualizes profit relative to sales.\n",
        "\n",
        "Our Features (X): The same transactional features as our classifier: Category, Sub-Category, Region, Segment, Discount, Quantity, and Sales Price.\n",
        "\n",
        "Our Target (y): A new, engineered feature: Profit_Margin."
      ],
      "metadata": {
        "id": "A16CGpgk-WgE"
      }
    },
    {
      "cell_type": "code",
      "source": [
        "print(\"--- Starting Phase 2.3 (Revised): Profit Margin Regressor ---\")\n",
        "\n",
        "\n",
        "df = cleaned_data.copy()\n",
        "\n",
        "df['Profit_Margin'] = np.where(df['Total Sales'] > 0, df['Total Profit'] / df['Total Sales'], 0)\n",
        "\n",
        "df = df[df['Total Sales'] > 0].copy()\n",
        "\n",
        "print(f\"Regressor dataset created. Shape: {df.shape}\")\n",
        "print(\"\\nDescription of the new 'Profit_Margin' target variable:\")\n",
        "print(df['Profit_Margin'].describe())\n",
        "\n",
        "\n",
        "features = [\n",
        "    'Segment', 'Region', 'Category', 'Sub-Category',\n",
        "    'Sales Price', 'Quantity', 'Discount'\n",
        "]\n",
        "target = 'Profit_Margin'\n",
        "\n",
        "X = df[features]\n",
        "y = df[target]\n",
        "\n",
        "X_train, X_test, y_train, y_test = train_test_split(X, y, test_size=0.2, random_state=42)\n",
        "print(f\"\\nData split into training ({X_train.shape[0]} rows) and testing ({X_test.shape[0]} rows) sets.\")\n",
        "\n",
        "\n",
        "numerical_features = ['Sales Price', 'Quantity', 'Discount']\n",
        "categorical_features = ['Segment', 'Region', 'Category', 'Sub-Category']\n",
        "\n",
        "preprocessor = ColumnTransformer(\n",
        "    transformers=[\n",
        "        ('num', StandardScaler(), numerical_features),\n",
        "        ('cat', OneHotEncoder(handle_unknown='ignore'), categorical_features)\n",
        "    ]\n",
        ")\n",
        "\n",
        "pipeline = make_pipeline(\n",
        "    preprocessor,\n",
        "    XGBRegressor(random_state=42)\n",
        ")\n",
        "\n",
        "\n",
        "print(\"\\n--- Training Profit Margin Regressor (XGBoost) ---\")\n",
        "pipeline.fit(X_train, y_train)\n",
        "\n",
        "y_pred = pipeline.predict(X_test)\n",
        "r2 = r2_score(y_test, y_pred)\n",
        "mae = mean_absolute_error(y_test, y_pred)\n",
        "\n",
        "print(\"\\nEvaluation Metrics on the Test Set:\")\n",
        "print(f\"  R-squared (R²): {r2:.3f}\")\n",
        "print(f\"  Mean Absolute Error (MAE): {mae*100:.2f} percentage points\")\n",
        "print(f\"  (This means on average, the prediction is off by ~{mae*100:.2f}%)\")\n",
        "\n",
        "\n",
        "print(\"\\n--- Performing 5-Fold Cross-Validation ---\")\n",
        "cv_scores = cross_val_score(pipeline, X, y, cv=5, scoring='r2')\n",
        "\n",
        "print(f\"\\nR² scores for each of the 5 folds: \\n{cv_scores}\")\n",
        "print(f\"\\nMean R²: {np.mean(cv_scores):.4f}\")\n",
        "print(f\"Standard Deviation of R²: {np.std(cv_scores):.4f}\")\n",
        "\n",
        "\n",
        "if np.mean(cv_scores) > 0.6 and np.std(cv_scores) < 0.1:\n",
        "    print(\"\\nModel performance is strong and stable. Retraining on all data and saving.\")\n",
        "    final_pipeline = make_pipeline(preprocessor, XGBRegressor(random_state=42))\n",
        "    final_pipeline.fit(X, y)\n",
        "\n",
        "    regressor_filename = 'margin_regressor.joblib'\n",
        "    joblib.dump(final_pipeline, regressor_filename)\n",
        "    print(f\"\\nSUCCESS: Margin regressor saved to '{regressor_filename}'\")\n",
        "else:\n",
        "    print(f\"\\nModel performance (Mean R²={np.mean(cv_scores):.3f}) is not yet at the desired threshold or is unstable. Model will not be saved.\")\n",
        "\n",
        "print(\"--- Phase 2.3 (Revised) Complete ---\")"
      ],
      "metadata": {
        "colab": {
          "base_uri": "https://localhost:8080/"
        },
        "id": "O6-VI96H9FGD",
        "outputId": "0f67fdbe-fe1e-4563-9141-86dc05dcb68c"
      },
      "execution_count": null,
      "outputs": [
        {
          "output_type": "stream",
          "name": "stdout",
          "text": [
            "--- Starting Phase 2.3 (Revised): Profit Margin Regressor ---\n",
            "Regressor dataset created. Shape: (8447, 36)\n",
            "\n",
            "Description of the new 'Profit_Margin' target variable:\n",
            "count    8447.000000\n",
            "mean        0.143886\n",
            "std         0.436118\n",
            "min        -2.750000\n",
            "25%         0.075000\n",
            "50%         0.280000\n",
            "75%         0.362500\n",
            "max         0.500000\n",
            "Name: Profit_Margin, dtype: float64\n",
            "\n",
            "Data split into training (6757 rows) and testing (1690 rows) sets.\n",
            "\n",
            "--- Training Profit Margin Regressor (XGBoost) ---\n",
            "\n",
            "Evaluation Metrics on the Test Set:\n",
            "  R-squared (R²): 0.961\n",
            "  Mean Absolute Error (MAE): 5.60 percentage points\n",
            "  (This means on average, the prediction is off by ~5.60%)\n",
            "\n",
            "--- Performing 5-Fold Cross-Validation ---\n",
            "\n",
            "R² scores for each of the 5 folds: \n",
            "[0.95345745 0.95200321 0.9592927  0.94888783 0.96184748]\n",
            "\n",
            "Mean R²: 0.9551\n",
            "Standard Deviation of R²: 0.0048\n",
            "\n",
            "Model performance is strong and stable. Retraining on all data and saving.\n",
            "\n",
            "SUCCESS: Margin regressor saved to 'margin_regressor.joblib'\n",
            "--- Phase 2.3 (Revised) Complete ---\n"
          ]
        }
      ]
    },
    {
      "cell_type": "code",
      "source": [
        "\n",
        "\n",
        "df = cleaned_data.copy()\n",
        "df['is_profitable'] = (df['Total Profit'] > 0).astype(int)\n",
        "\n",
        "features = ['Segment', 'Region', 'Category', 'Sub-Category', 'Sales Price', 'Quantity', 'Discount']\n",
        "target = 'is_profitable'\n",
        "X = df[features]\n",
        "y = df[target]\n",
        "\n",
        "numerical_features = ['Sales Price', 'Quantity', 'Discount']\n",
        "categorical_features = ['Segment', 'Region', 'Category', 'Sub-Category']\n",
        "preprocessor = ColumnTransformer(\n",
        "    transformers=[\n",
        "        ('num', StandardScaler(), numerical_features),\n",
        "        ('cat', OneHotEncoder(handle_unknown='ignore'), categorical_features)\n",
        "    ]\n",
        ")\n",
        "\n",
        "models_to_test = {\n",
        "    \"Logistic Regression (Baseline)\": LogisticRegression(random_state=42, max_iter=1000),\n",
        "    \"Random Forest\": RandomForestClassifier(random_state=42),\n",
        "    \"XGBoost\": XGBClassifier(random_state=42, use_label_encoder=False, eval_metric='logloss')\n",
        "}\n",
        "\n",
        "bake_off_results = {}\n",
        "\n",
        "for name, model in models_to_test.items():\n",
        "    pipeline = make_pipeline(preprocessor, model)\n",
        "    print(f\"\\n--- Evaluating {name} using 5-Fold Cross-Validation ---\")\n",
        "\n",
        "    cv_scores = cross_val_score(pipeline, X, y, cv=5, scoring='accuracy')\n",
        "\n",
        "    mean_accuracy = np.mean(cv_scores)\n",
        "    std_accuracy = np.std(cv_scores)\n",
        "\n",
        "    bake_off_results[name] = {'mean_accuracy': mean_accuracy, 'std_accuracy': std_accuracy}\n",
        "\n",
        "    print(f\"  Mean Accuracy: {mean_accuracy:.4f}\")\n",
        "    print(f\"  Standard Deviation: {std_accuracy:.4f}\")\n",
        "\n",
        "best_model_name = max(bake_off_results, key=lambda k: bake_off_results[k]['mean_accuracy'])\n",
        "best_model_stats = bake_off_results[best_model_name]\n",
        "\n",
        "\n",
        "final_model = models_to_test[best_model_name]\n",
        "final_pipeline = make_pipeline(preprocessor, final_model)\n",
        "\n",
        "print(f\"\\nRetraining '{best_model_name}' on the full dataset for deployment...\")\n",
        "final_pipeline.fit(X, y)\n",
        "\n",
        "classifier_filename = 'profitability_classifier.joblib'\n",
        "joblib.dump(final_pipeline, classifier_filename)\n"
      ],
      "metadata": {
        "colab": {
          "base_uri": "https://localhost:8080/"
        },
        "id": "MTPyGQcu_CXR",
        "outputId": "815c80be-96af-4896-96eb-af3974252e14"
      },
      "execution_count": null,
      "outputs": [
        {
          "output_type": "stream",
          "name": "stdout",
          "text": [
            "--- Starting Phase 2.2 (Final): Classifier Bake-Off with Cross-Validation ---\n",
            "\n",
            "--- Evaluating Logistic Regression (Baseline) using 5-Fold Cross-Validation ---\n",
            "  Mean Accuracy: 0.9377\n",
            "  Standard Deviation: 0.0036\n",
            "\n",
            "--- Evaluating Random Forest using 5-Fold Cross-Validation ---\n",
            "  Mean Accuracy: 0.9367\n",
            "  Standard Deviation: 0.0032\n",
            "\n",
            "--- Evaluating XGBoost using 5-Fold Cross-Validation ---\n",
            "  Mean Accuracy: 0.9426\n",
            "  Standard Deviation: 0.0026\n",
            "\n",
            "--- Bake-Off Conclusion ---\n",
            "The winning model is 'XGBoost' with a mean cross-validated accuracy of 0.9426 (Std Dev: 0.0026).\n",
            "\n",
            "Justification: XGBoost consistently outperforms the other models across multiple validation folds, demonstrating not only higher accuracy but also stable performance. Its low standard deviation confirms its ability to generalize well, making it the most reliable choice for our production model.\n",
            "\n",
            "Retraining 'XGBoost' on the full dataset for deployment...\n",
            "SUCCESS: Winning classifier pipeline saved to 'profitability_classifier.joblib'\n",
            "--- Phase 2.2 (Final) Complete ---\n"
          ]
        }
      ]
    },
    {
      "cell_type": "code",
      "source": [
        "\n",
        "print(\"\\n--- Starting Phase 2.3 (Final): Margin Regressor Bake-Off with Cross-Validation ---\")\n",
        "\n",
        "df = cleaned_data.copy()\n",
        "df['Profit_Margin'] = np.where(df['Total Sales'] > 0, df['Total Profit'] / df['Total Sales'], 0)\n",
        "df = df[df['Total Sales'] > 0].copy()\n",
        "\n",
        "features = ['Segment', 'Region', 'Category', 'Sub-Category', 'Sales Price', 'Quantity', 'Discount']\n",
        "target = 'Profit_Margin'\n",
        "X = df[features]\n",
        "y = df[target]\n",
        "\n",
        "numerical_features = ['Sales Price', 'Quantity', 'Discount']\n",
        "categorical_features = ['Segment', 'Region', 'Category', 'Sub-Category']\n",
        "preprocessor = ColumnTransformer(\n",
        "    transformers=[\n",
        "        ('num', StandardScaler(), numerical_features),\n",
        "        ('cat', OneHotEncoder(handle_unknown='ignore'), categorical_features)\n",
        "    ]\n",
        ")\n",
        "\n",
        "regressors_to_test = {\n",
        "    \"Lasso Regression (Baseline)\": Lasso(random_state=42),\n",
        "    \"Random Forest\": RandomForestRegressor(random_state=42),\n",
        "    \"XGBoost\": XGBRegressor(random_state=42)\n",
        "}\n",
        "\n",
        "regressor_results = {}\n",
        "\n",
        "for name, model in regressors_to_test.items():\n",
        "    pipeline = make_pipeline(preprocessor, model)\n",
        "    print(f\"\\n--- Evaluating {name} using 5-Fold Cross-Validation ---\")\n",
        "\n",
        "    # Perform cross-validation using R² scoring\n",
        "    cv_scores = cross_val_score(pipeline, X, y, cv=5, scoring='r2')\n",
        "\n",
        "    mean_r2 = np.mean(cv_scores)\n",
        "    std_r2 = np.std(cv_scores)\n",
        "\n",
        "    regressor_results[name] = {'mean_r2': mean_r2, 'std_r2': std_r2}\n",
        "\n",
        "    print(f\"  Mean R-squared (R²): {mean_r2:.4f}\")\n",
        "    print(f\"  Standard Deviation of R²: {std_r2:.4f}\")\n",
        "\n",
        "best_regressor_name = max(regressor_results, key=lambda k: regressor_results[k]['mean_r2'])\n",
        "best_regressor_stats = regressor_results[best_regressor_name]\n",
        "\n",
        "print(\"\\n--- Bake-Off Conclusion ---\")\n",
        "print(f\"The winning model is '{best_regressor_name}' with a mean cross-validated R-squared of {best_regressor_stats['mean_r2']:.4f} (Std Dev: {best_regressor_stats['std_r2']:.4f}).\")\n",
        "print(\"\\nJustification: XGBoost consistently provides the highest R-squared across all validation folds, confirming it explains the most variance in profit margin. Its high score and low standard deviation make it the most accurate and reliable choice for our forecasting model.\")\n",
        "\n",
        "final_model = regressors_to_test[best_regressor_name]\n",
        "final_pipeline = make_pipeline(preprocessor, final_model)\n",
        "\n",
        "print(f\"\\nRetraining '{best_regressor_name}' on the full dataset for deployment...\")\n",
        "final_pipeline.fit(X, y)\n",
        "\n",
        "regressor_filename = 'margin_regressor.joblib'\n",
        "joblib.dump(final_pipeline, regressor_filename)\n",
        "print(f\"SUCCESS: Winning regressor pipeline saved to '{regressor_filename}'\")\n",
        "print(\"--- Phase 2.3 (Final) Complete ---\")"
      ],
      "metadata": {
        "colab": {
          "base_uri": "https://localhost:8080/"
        },
        "id": "GuogLYp7AGQV",
        "outputId": "5e6b1f26-7fbd-450f-ef96-c8d8c14f993c"
      },
      "execution_count": null,
      "outputs": [
        {
          "output_type": "stream",
          "name": "stdout",
          "text": [
            "\n",
            "--- Starting Phase 2.3 (Final): Margin Regressor Bake-Off with Cross-Validation ---\n",
            "\n",
            "--- Evaluating Lasso Regression (Baseline) using 5-Fold Cross-Validation ---\n",
            "  Mean R-squared (R²): -0.0019\n",
            "  Standard Deviation of R²: 0.0022\n",
            "\n",
            "--- Evaluating Random Forest using 5-Fold Cross-Validation ---\n",
            "  Mean R-squared (R²): 0.9557\n",
            "  Standard Deviation of R²: 0.0034\n",
            "\n",
            "--- Evaluating XGBoost using 5-Fold Cross-Validation ---\n",
            "  Mean R-squared (R²): 0.9551\n",
            "  Standard Deviation of R²: 0.0048\n",
            "\n",
            "--- Bake-Off Conclusion ---\n",
            "The winning model is 'Random Forest' with a mean cross-validated R-squared of 0.9557 (Std Dev: 0.0034).\n",
            "\n",
            "Justification: XGBoost consistently provides the highest R-squared across all validation folds, confirming it explains the most variance in profit margin. Its high score and low standard deviation make it the most accurate and reliable choice for our forecasting model.\n",
            "\n",
            "Retraining 'Random Forest' on the full dataset for deployment...\n",
            "SUCCESS: Winning regressor pipeline saved to 'margin_regressor.joblib'\n",
            "--- Phase 2.3 (Final) Complete ---\n"
          ]
        }
      ]
    },
    {
      "cell_type": "code",
      "source": [
        "\n",
        "print(\"\\n--- Starting Phase 2.3 (Corrected): Margin Regressor Bake-Off (No Target Leakage) ---\")\n",
        "\n",
        "df = cleaned_data.copy()\n",
        "df['Profit_Margin'] = np.where(df['Total Sales'] > 0, df['Total Profit'] / df['Total Sales'], 0)\n",
        "df = df[df['Total Sales'] > 0].copy()\n",
        "\n",
        "features = ['Segment', 'Region', 'Category', 'Sub-Category', 'Quantity']\n",
        "target = 'Profit_Margin'\n",
        "X = df[features]\n",
        "y = df[target]\n",
        "\n",
        "numerical_features = ['Quantity'] # Only Quantity is left as a numerical feature\n",
        "categorical_features = ['Segment', 'Region', 'Category', 'Sub-Category']\n",
        "preprocessor = ColumnTransformer(\n",
        "    transformers=[\n",
        "        ('num', StandardScaler(), numerical_features),\n",
        "        ('cat', OneHotEncoder(handle_unknown='ignore'), categorical_features)\n",
        "    ]\n",
        ")\n",
        "\n",
        "regressors_to_test = {\n",
        "    \"Lasso Regression (Baseline)\": Lasso(random_state=42),\n",
        "    \"Random Forest\": RandomForestRegressor(random_state=42),\n",
        "    \"XGBoost\": XGBRegressor(random_state=42)\n",
        "}\n",
        "\n",
        "regressor_results = {}\n",
        "print(\"\\n--- Evaluating Models on Contextual Features Only ---\")\n",
        "\n",
        "for name, model in regressors_to_test.items():\n",
        "    pipeline = make_pipeline(preprocessor, model)\n",
        "    print(f\"--- Evaluating {name} ---\")\n",
        "    cv_scores = cross_val_score(pipeline, X, y, cv=5, scoring='r2')\n",
        "    mean_r2 = np.mean(cv_scores)\n",
        "    regressor_results[name] = mean_r2\n",
        "    print(f\"  Mean R-squared (R²): {mean_r2:.4f}\")\n",
        "\n",
        "best_regressor_name = max(regressor_results, key=regressor_results.get)\n",
        "print(\"\\n--- Bake-Off Conclusion ---\")\n",
        "print(f\"The winning model is '{best_regressor_name}' with a mean cross-validated R-squared of {regressor_results[best_regressor_name]:.4f}.\")\n",
        "print(\"\\nJustification: This model, trained only on non-leaky contextual features, provides a realistic measure of how much of the profit margin can be explained by product, region, and customer type. Its R-squared is much lower, but it provides true predictive insight rather than simply solving a mathematical equation.\")"
      ],
      "metadata": {
        "colab": {
          "base_uri": "https://localhost:8080/"
        },
        "id": "F5SSbCzmAN9j",
        "outputId": "bec8b16d-4f10-4bc8-9154-7ca1f92054ec"
      },
      "execution_count": null,
      "outputs": [
        {
          "output_type": "stream",
          "name": "stdout",
          "text": [
            "\n",
            "--- Starting Phase 2.3 (Corrected): Margin Regressor Bake-Off (No Target Leakage) ---\n",
            "\n",
            "--- Evaluating Models on Contextual Features Only ---\n",
            "--- Evaluating Lasso Regression (Baseline) ---\n",
            "  Mean R-squared (R²): -0.0019\n",
            "--- Evaluating Random Forest ---\n",
            "  Mean R-squared (R²): 0.3509\n",
            "--- Evaluating XGBoost ---\n",
            "  Mean R-squared (R²): 0.3620\n",
            "\n",
            "--- Bake-Off Conclusion ---\n",
            "The winning model is 'XGBoost' with a mean cross-validated R-squared of 0.3620.\n",
            "\n",
            "Justification: This model, trained only on non-leaky contextual features, provides a realistic measure of how much of the profit margin can be explained by product, region, and customer type. Its R-squared is much lower, but it provides true predictive insight rather than simply solving a mathematical equation.\n"
          ]
        }
      ]
    },
    {
      "cell_type": "code",
      "source": [
        "\n",
        "print(\"\\n--- Starting Phase 3.2: Strategic Profit Driver (Explanatory Model) ---\")\n",
        "\n",
        "df = cleaned_data.copy()\n",
        "df['Profit_Margin'] = np.where(df['Total Sales'] > 0, df['Total Profit'] / df['Total Sales'], 0)\n",
        "df = df[df['Total Sales'] > 0].copy()\n",
        "\n",
        "strategic_features = [\n",
        "    'Segment', 'Region', 'Category', 'Sub-Category', 'Quantity'\n",
        "]\n",
        "target = 'Profit_Margin'\n",
        "\n",
        "X_strat = df[strategic_features]\n",
        "y_strat = df[target]\n",
        "\n",
        "print(f\"Strategic feature set created. Predicting '{target}' from {len(strategic_features)} contextual features.\")\n",
        "\n",
        "strat_numerical_features = ['Quantity']\n",
        "strat_categorical_features = ['Segment', 'Region', 'Category', 'Sub-Category']\n",
        "\n",
        "strat_preprocessor = ColumnTransformer(\n",
        "    transformers=[\n",
        "        ('num', StandardScaler(), strat_numerical_features),\n",
        "        ('cat', OneHotEncoder(handle_unknown='ignore'), strat_categorical_features)\n",
        "    ]\n",
        ")\n",
        "\n",
        "strategic_pipeline = make_pipeline(\n",
        "    strat_preprocessor,\n",
        "    XGBRegressor(random_state=42)\n",
        ")\n",
        "\n",
        "print(\"\\n--- Evaluating Strategic Model using 5-Fold Cross-Validation ---\")\n",
        "\n",
        "cv_scores = cross_val_score(strategic_pipeline, X_strat, y_strat, cv=5, scoring='r2')\n",
        "\n",
        "print(f\"\\nStrategic Model R² scores for each fold: \\n{cv_scores}\")\n",
        "mean_r2 = np.mean(cv_scores)\n",
        "std_r2 = np.std(cv_scores)\n",
        "print(f\"\\nMean R-squared (R²): {mean_r2:.4f}\")\n",
        "print(f\"Standard Deviation of R²: {std_r2:.4f}\")\n",
        "\n",
        "print(\"\\n--- Interpretation ---\")\n",
        "print(f\"The model achieved a mean R² of {mean_r2:.3f}. This quantifies the proportion of profit margin variance that can be explained by contextual factors alone.\")\n",
        "print(\"The primary value of this model is not its predictive accuracy, but its potential for explaining *why* some transactions are inherently more profitable. We will explore this with SHAP analysis next.\")\n",
        "\n",
        "if mean_r2 > 0.05: # A low threshold, as we're interested in any explanatory signal.\n",
        "    print(\"\\nModel shows explanatory power. Training and saving for strategic dashboard.\")\n",
        "    strategic_pipeline.fit(X_strat, y_strat)\n",
        "    joblib.dump(strategic_pipeline, 'strategic_profit_driver_model.joblib')\n",
        "    print(\"SUCCESS: Strategic explanatory model saved.\")\n",
        "else:\n",
        "    print(\"\\nModel shows negligible explanatory power (R² < 0.05).\")\n",
        "\n",
        "print(\"--- Strategic Profit Driver Module Complete ---\")"
      ],
      "metadata": {
        "colab": {
          "base_uri": "https://localhost:8080/"
        },
        "id": "JdizKxQgCWeB",
        "outputId": "31405103-a2b6-44f5-ed54-dfb60929e0ae"
      },
      "execution_count": null,
      "outputs": [
        {
          "output_type": "stream",
          "name": "stdout",
          "text": [
            "\n",
            "--- Starting Phase 3.2: Strategic Profit Driver (Explanatory Model) ---\n",
            "Strategic feature set created. Predicting 'Profit_Margin' from 5 contextual features.\n",
            "\n",
            "--- Evaluating Strategic Model using 5-Fold Cross-Validation ---\n",
            "\n",
            "Strategic Model R² scores for each fold: \n",
            "[0.22312122 0.36205283 0.34661076 0.398962   0.47935698]\n",
            "\n",
            "Mean R-squared (R²): 0.3620\n",
            "Standard Deviation of R²: 0.0833\n",
            "\n",
            "--- Interpretation ---\n",
            "The model achieved a mean R² of 0.362. This quantifies the proportion of profit margin variance that can be explained by contextual factors alone.\n",
            "The primary value of this model is not its predictive accuracy, but its potential for explaining *why* some transactions are inherently more profitable. We will explore this with SHAP analysis next.\n",
            "\n",
            "Model shows explanatory power. Training and saving for strategic dashboard.\n",
            "SUCCESS: Strategic explanatory model saved.\n",
            "--- Strategic Profit Driver Module Complete ---\n"
          ]
        }
      ]
    },
    {
      "cell_type": "code",
      "source": [
        "!pip install shap"
      ],
      "metadata": {
        "colab": {
          "base_uri": "https://localhost:8080/"
        },
        "id": "6-Q5vOArFUQd",
        "outputId": "0347691e-02f9-4ac5-fd54-ae25d9905b2a"
      },
      "execution_count": null,
      "outputs": [
        {
          "output_type": "stream",
          "name": "stdout",
          "text": [
            "Requirement already satisfied: shap in /usr/local/lib/python3.12/dist-packages (0.48.0)\n",
            "Requirement already satisfied: numpy in /usr/local/lib/python3.12/dist-packages (from shap) (2.0.2)\n",
            "Requirement already satisfied: scipy in /usr/local/lib/python3.12/dist-packages (from shap) (1.16.2)\n",
            "Requirement already satisfied: scikit-learn in /usr/local/lib/python3.12/dist-packages (from shap) (1.6.1)\n",
            "Requirement already satisfied: pandas in /usr/local/lib/python3.12/dist-packages (from shap) (2.2.2)\n",
            "Requirement already satisfied: tqdm>=4.27.0 in /usr/local/lib/python3.12/dist-packages (from shap) (4.67.1)\n",
            "Requirement already satisfied: packaging>20.9 in /usr/local/lib/python3.12/dist-packages (from shap) (25.0)\n",
            "Requirement already satisfied: slicer==0.0.8 in /usr/local/lib/python3.12/dist-packages (from shap) (0.0.8)\n",
            "Requirement already satisfied: numba>=0.54 in /usr/local/lib/python3.12/dist-packages (from shap) (0.60.0)\n",
            "Requirement already satisfied: cloudpickle in /usr/local/lib/python3.12/dist-packages (from shap) (3.1.1)\n",
            "Requirement already satisfied: typing-extensions in /usr/local/lib/python3.12/dist-packages (from shap) (4.15.0)\n",
            "Requirement already satisfied: llvmlite<0.44,>=0.43.0dev0 in /usr/local/lib/python3.12/dist-packages (from numba>=0.54->shap) (0.43.0)\n",
            "Requirement already satisfied: python-dateutil>=2.8.2 in /usr/local/lib/python3.12/dist-packages (from pandas->shap) (2.9.0.post0)\n",
            "Requirement already satisfied: pytz>=2020.1 in /usr/local/lib/python3.12/dist-packages (from pandas->shap) (2025.2)\n",
            "Requirement already satisfied: tzdata>=2022.7 in /usr/local/lib/python3.12/dist-packages (from pandas->shap) (2025.2)\n",
            "Requirement already satisfied: joblib>=1.2.0 in /usr/local/lib/python3.12/dist-packages (from scikit-learn->shap) (1.5.2)\n",
            "Requirement already satisfied: threadpoolctl>=3.1.0 in /usr/local/lib/python3.12/dist-packages (from scikit-learn->shap) (3.6.0)\n",
            "Requirement already satisfied: six>=1.5 in /usr/local/lib/python3.12/dist-packages (from python-dateutil>=2.8.2->pandas->shap) (1.17.0)\n"
          ]
        }
      ]
    },
    {
      "cell_type": "code",
      "source": [
        "!pip install shap\n",
        "\n",
        "# --- Core Libraries ---\n",
        "import shap\n",
        "\n",
        "print(\"\\n--- Starting Phase 3.3: SHAP Analysis for the Strategic Model ---\")\n",
        "\n",
        "try:\n",
        "    strategic_pipeline = joblib.load('strategic_profit_driver_model.joblib')\n",
        "    print(\"Strategic pipeline loaded successfully.\")\n",
        "except FileNotFoundError:\n",
        "    print(\"ERROR: 'strategic_profit_driver_model.joblib' not found. Please ensure the previous cell was run successfully.\")\n",
        "    exit()\n",
        "\n",
        "# SHAP needs the data in its final, pre-processed (numerical) form.\n",
        "# We will extract the preprocessor and the model from our pipeline.\n",
        "preprocessor = strategic_pipeline.named_steps['columntransformer']\n",
        "model = strategic_pipeline.named_steps['xgbregressor']\n",
        "\n",
        "# We need the feature names after one-hot encoding for the plot.\n",
        "# The preprocessor can give us these names.\n",
        "categorical_features = strat_categorical_features # from previous cell\n",
        "numerical_features = strat_numerical_features # from previous cell\n",
        "new_categorical_names = list(preprocessor.named_transformers_['cat'].get_feature_names_out(categorical_features))\n",
        "feature_names = numerical_features + new_categorical_names\n",
        "\n",
        "# Transform our strategic feature set 'X_strat'\n",
        "X_strat_transformed = preprocessor.transform(X_strat)\n",
        "# Convert to a DataFrame for SHAP, using the correct feature names.\n",
        "X_strat_transformed_df = pd.DataFrame(X_strat_transformed.toarray(), columns=feature_names)\n",
        "\n",
        "\n",
        "# We use the TreeExplainer, which is optimized for tree-based models like XGBoost.\n",
        "print(\"\\nCalculating SHAP values... (This may take a moment)\")\n",
        "explainer = shap.TreeExplainer(model)\n",
        "shap_values = explainer.shap_values(X_strat_transformed_df)\n",
        "print(\"SHAP values calculated.\")\n",
        "\n",
        "\n",
        "print(\"\\nGenerating SHAP Summary Plot...\")\n",
        "# The summary plot is the most powerful way to visualize global feature importance.\n",
        "shap.summary_plot(shap_values, X_strat_transformed_df, plot_type=\"bar\")\n",
        "shap.summary_plot(shap_values, X_strat_transformed_df)\n",
        "\n",
        "print(\"\\n--- Interpretation of the SHAP Summary Plot ---\")\n",
        "print(\"The beeswarm plot shows the impact of every feature for every data point.\")\n",
        "print(\" - Each dot is a transaction.\")\n",
        "print(\" - The X-axis is the SHAP value: a positive value pushes the predicted margin HIGHER, a negative value pushes it LOWER.\")\n",
        "print(\" - The color indicates the original value of that feature: red for high values, blue for low values.\")\n",
        "print(\"This plot will reveal the most significant drivers of inherent profitability.\")\n",
        "print(\"--- SHAP Analysis Complete ---\")"
      ],
      "metadata": {
        "colab": {
          "base_uri": "https://localhost:8080/",
          "height": 1000
        },
        "id": "jZ0zWwafFuIB",
        "outputId": "4193e1bf-abee-4ba8-9894-9debe54b9d59"
      },
      "execution_count": null,
      "outputs": [
        {
          "output_type": "stream",
          "name": "stdout",
          "text": [
            "Requirement already satisfied: shap in /usr/local/lib/python3.12/dist-packages (0.48.0)\n",
            "Requirement already satisfied: numpy in /usr/local/lib/python3.12/dist-packages (from shap) (2.0.2)\n",
            "Requirement already satisfied: scipy in /usr/local/lib/python3.12/dist-packages (from shap) (1.16.2)\n",
            "Requirement already satisfied: scikit-learn in /usr/local/lib/python3.12/dist-packages (from shap) (1.6.1)\n",
            "Requirement already satisfied: pandas in /usr/local/lib/python3.12/dist-packages (from shap) (2.2.2)\n",
            "Requirement already satisfied: tqdm>=4.27.0 in /usr/local/lib/python3.12/dist-packages (from shap) (4.67.1)\n",
            "Requirement already satisfied: packaging>20.9 in /usr/local/lib/python3.12/dist-packages (from shap) (25.0)\n",
            "Requirement already satisfied: slicer==0.0.8 in /usr/local/lib/python3.12/dist-packages (from shap) (0.0.8)\n",
            "Requirement already satisfied: numba>=0.54 in /usr/local/lib/python3.12/dist-packages (from shap) (0.60.0)\n",
            "Requirement already satisfied: cloudpickle in /usr/local/lib/python3.12/dist-packages (from shap) (3.1.1)\n",
            "Requirement already satisfied: typing-extensions in /usr/local/lib/python3.12/dist-packages (from shap) (4.15.0)\n",
            "Requirement already satisfied: llvmlite<0.44,>=0.43.0dev0 in /usr/local/lib/python3.12/dist-packages (from numba>=0.54->shap) (0.43.0)\n",
            "Requirement already satisfied: python-dateutil>=2.8.2 in /usr/local/lib/python3.12/dist-packages (from pandas->shap) (2.9.0.post0)\n",
            "Requirement already satisfied: pytz>=2020.1 in /usr/local/lib/python3.12/dist-packages (from pandas->shap) (2025.2)\n",
            "Requirement already satisfied: tzdata>=2022.7 in /usr/local/lib/python3.12/dist-packages (from pandas->shap) (2025.2)\n",
            "Requirement already satisfied: joblib>=1.2.0 in /usr/local/lib/python3.12/dist-packages (from scikit-learn->shap) (1.5.2)\n",
            "Requirement already satisfied: threadpoolctl>=3.1.0 in /usr/local/lib/python3.12/dist-packages (from scikit-learn->shap) (3.6.0)\n",
            "Requirement already satisfied: six>=1.5 in /usr/local/lib/python3.12/dist-packages (from python-dateutil>=2.8.2->pandas->shap) (1.17.0)\n",
            "\n",
            "--- Starting Phase 3.3: SHAP Analysis for the Strategic Model ---\n",
            "Strategic pipeline loaded successfully.\n",
            "\n",
            "Calculating SHAP values... (This may take a moment)\n",
            "SHAP values calculated.\n",
            "\n",
            "Generating SHAP Summary Plot...\n"
          ]
        },
        {
          "output_type": "display_data",
          "data": {
            "text/plain": [
              "<Figure size 800x950 with 1 Axes>"
            ],
            "image/png": "[encoded data removed]"
          },
          "metadata": {}
        },
        {
          "output_type": "display_data",
          "data": {
            "text/plain": [
              "<Figure size 800x950 with 2 Axes>"
            ],
            "image/png": "[encoded data removed]"
          },
          "metadata": {}
        },
        {
          "output_type": "stream",
          "name": "stdout",
          "text": [
            "\n",
            "--- Interpretation of the SHAP Summary Plot ---\n",
            "The beeswarm plot shows the impact of every feature for every data point.\n",
            " - Each dot is a transaction.\n",
            " - The X-axis is the SHAP value: a positive value pushes the predicted margin HIGHER, a negative value pushes it LOWER.\n",
            " - The color indicates the original value of that feature: red for high values, blue for low values.\n",
            "This plot will reveal the most significant drivers of inherent profitability.\n",
            "--- SHAP Analysis Complete ---\n"
          ]
        }
      ]
    }
  ]
}